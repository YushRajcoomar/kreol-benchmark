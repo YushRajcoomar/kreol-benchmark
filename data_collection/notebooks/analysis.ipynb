{
 "cells": [
  {
   "cell_type": "code",
   "execution_count": 8,
   "metadata": {},
   "outputs": [],
   "source": [
    "import os\n",
    "\n",
    "import pandas as pd"
   ]
  },
  {
   "cell_type": "markdown",
   "metadata": {},
   "source": [
    "We will analyze the current corpus, parallel and unilateral and then discuss expansion strategies."
   ]
  },
  {
   "cell_type": "code",
   "execution_count": 11,
   "metadata": {},
   "outputs": [],
   "source": [
    "data_dir = r'C:\\Users\\yush\\OneDrive\\Desktop\\papers\\kreol-benchmark\\experiments\\data'\n",
    "lang_pairs = ['cr','fr-cr','en-cr']\n",
    "splits = ['train','test','dev']"
   ]
  },
  {
   "cell_type": "code",
   "execution_count": 15,
   "metadata": {},
   "outputs": [
    {
     "name": "stdout",
     "output_type": "stream",
     "text": [
      "Number of sentences in cr train: 45364\n",
      "Number of sentences in cr test: 1\n",
      "Number of sentences in cr dev: 1\n",
      "Total number of sentences for cr: 45366\n",
      "Number of sentences in fr-cr train: 15239\n",
      "Number of sentences in fr-cr test: 1000\n",
      "Number of sentences in fr-cr dev: 500\n",
      "Total number of sentences for fr-cr: 16739\n",
      "Number of sentences in en-cr train: 21810\n",
      "Number of sentences in en-cr test: 1000\n",
      "Number of sentences in en-cr dev: 500\n",
      "Total number of sentences for en-cr: 23310\n"
     ]
    }
   ],
   "source": [
    "for l_pair in lang_pairs:\n",
    "    pair_dir = os.path.join(data_dir,l_pair)\n",
    "    total_sentences = 0\n",
    "    for split in splits:\n",
    "        file_name = f\"{l_pair}_{split}.jsonl\"\n",
    "        file_path = os.path.join(pair_dir,file_name)\n",
    "        jsonObj = pd.read_json(file_path,lines=True)\n",
    "        print(f\"Number of sentences in {l_pair} {split}: {jsonObj.shape[0]}\")\n",
    "        total_sentences += jsonObj.shape[0]\n",
    "    print(f\"Total number of sentences for {l_pair}: {total_sentences}\")"
   ]
  },
  {
   "cell_type": "markdown",
   "metadata": {},
   "source": [
    "Looking into the french-creole pairings, we notice that around half of the training corpus is dictionary words. Morever there's a different problem with the french data, the unicode characters were poorly exported. Now for a robust model, I believe its worth preserving accents in training. \n",
    "\n",
    "Tasks on pre-existing data:\n",
    "- Clean french data to support their unicode counterparts\n",
    "- Translate french to english to augment english data. This would double english corpus\n",
    "- Translate english to french to augment french data. \n",
    "\n",
    "Data Collection Tasks:\n",
    "- Scrape elements in Dev Virahsawmy's website. Find bilingual counterparts where they exist\n",
    "- Scrape downloaded books, mostly unilaterally creole\n",
    "- Scrape new Lalit's blog posts\n",
    "- Scrape Lalit's dictionary\n",
    "- Double check if these already exist in current data\n",
    "- New collection will be done separately from existing corpus"
   ]
  },
  {
   "cell_type": "markdown",
   "metadata": {},
   "source": [
    "Update Log:\n",
    "\n",
    "02/20/24:\n",
    "Done scraping every book I downloaded except the dictionary.  \n",
    "Will start building HF pipeline.  \n",
    "Goal by EoW: Dev's website scraped, Training/Inference/Generation pipeline to be built.  "
   ]
  },
  {
   "cell_type": "markdown",
   "metadata": {},
   "source": [
    "\n"
   ]
  }
 ],
 "metadata": {
  "kernelspec": {
   "display_name": "Python 3",
   "language": "python",
   "name": "python3"
  },
  "language_info": {
   "codemirror_mode": {
    "name": "ipython",
    "version": 3
   },
   "file_extension": ".py",
   "mimetype": "text/x-python",
   "name": "python",
   "nbconvert_exporter": "python",
   "pygments_lexer": "ipython3",
   "version": "3.7.9"
  }
 },
 "nbformat": 4,
 "nbformat_minor": 2
}
