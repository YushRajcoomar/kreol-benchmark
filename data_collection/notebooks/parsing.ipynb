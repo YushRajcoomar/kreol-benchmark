{
 "cells": [
  {
   "cell_type": "code",
   "execution_count": 93,
   "metadata": {},
   "outputs": [],
   "source": [
    "import PyPDF2\n",
    "import re\n",
    "import pandas as pd\n",
    "import numpy as np"
   ]
  },
  {
   "cell_type": "code",
   "execution_count": 94,
   "metadata": {},
   "outputs": [],
   "source": [
    "\n",
    "def extract_text_from_pdf(pdf_path):\n",
    "    text = ''\n",
    "    with open(pdf_path, 'rb') as file:\n",
    "        pdf_reader = PyPDF2.PdfReader(file)\n",
    "        num_pages = len(pdf_reader.pages)\n",
    "        for page_num in range(num_pages):\n",
    "            page = pdf_reader.pages[page_num]\n",
    "            text += page.extract_text()\n",
    "    return text"
   ]
  },
  {
   "cell_type": "markdown",
   "metadata": {},
   "source": [
    "## Book 1 : Gramer Kreol Morisien (Police-Michel, Carpooran & Florigny)"
   ]
  },
  {
   "cell_type": "code",
   "execution_count": 95,
   "metadata": {},
   "outputs": [],
   "source": [
    "pdf_path = r\"C:\\Users\\yush\\OneDrive\\Desktop\\papers\\kreol-benchmark\\data_collection\\books\\Mauritian Creole; Gramer Kreol Morisien (Police-Michel, Carpooran & Florigny).pdf\"\n",
    "extracted_text = extract_text_from_pdf(pdf_path)"
   ]
  },
  {
   "cell_type": "code",
   "execution_count": 96,
   "metadata": {},
   "outputs": [],
   "source": [
    "pdf_reader = PyPDF2.PdfReader(pdf_path)"
   ]
  },
  {
   "cell_type": "code",
   "execution_count": 151,
   "metadata": {},
   "outputs": [],
   "source": [
    "list_of_en_cr_pages = [\n",
    "    (5,6),\n",
    "]\n",
    "list_of_cr_fr_pages = [\n",
    "    (7,8)\n",
    "]\n",
    "pages_to_manually_parse =  list(range(40,46)) + list(range(51,73)) + list(range(75,91)) + list(range(92,115)) + [118 , 119] + list(range(123,149))\n",
    "omit_pages = [0,1,2,3,4,5,6,7,8,9,10,11,12,13,14,15,16,17,18] + pages_to_manually_parse + list(range(150,172))\n",
    "list_of_cr_pages = [x for x in range(len(pdf_reader.pages)) if x not in omit_pages]"
   ]
  },
  {
   "cell_type": "code",
   "execution_count": 98,
   "metadata": {},
   "outputs": [],
   "source": [
    "def remove_num_npage_space(str):\n",
    "    cleaned_string = re.sub(r'[\\s\\d]+', ' ', str).strip()\n",
    "    return cleaned_string"
   ]
  },
  {
   "cell_type": "markdown",
   "metadata": {},
   "source": [
    "### fr_cr manual parsing "
   ]
  },
  {
   "cell_type": "code",
   "execution_count": 99,
   "metadata": {},
   "outputs": [],
   "source": [
    "\n",
    "pg7 = pdf_reader.pages[7].extract_text()\n",
    "pg8 = pdf_reader.pages[8].extract_text()\n",
    "\n",
    "pg7 = remove_num_npage_space(pg7)\n",
    "pg8 = remove_num_npage_space(pg8)"
   ]
  },
  {
   "cell_type": "code",
   "execution_count": 107,
   "metadata": {},
   "outputs": [
    {
     "data": {
      "text/plain": [
       "' Sa zour-la, lang maternel nou pei finn ofisielman rant dan lekol'"
      ]
     },
     "execution_count": 107,
     "metadata": {},
     "output_type": "execute_result"
    }
   ],
   "source": [
    "pg7_split = pg7.split('.')\n",
    "pg7_split.pop(1)\n",
    "pg8_split = pg8.split('.')\n"
   ]
  },
  {
   "cell_type": "code",
   "execution_count": 119,
   "metadata": {},
   "outputs": [],
   "source": [
    "raw_fr_cr_df = pd.DataFrame()"
   ]
  },
  {
   "cell_type": "code",
   "execution_count": 219,
   "metadata": {},
   "outputs": [],
   "source": [
    "def add_lists_to_dataframe(df, list1, list2, col1,col2):\n",
    "    diff = len(list1) - len(list2)\n",
    "    if diff > 0:\n",
    "        list2 += [''] * diff\n",
    "    elif diff < 0:\n",
    "        list1 += [''] * abs(diff)\n",
    "    df[col1] = list1\n",
    "    df[col2] = list2\n",
    "    \n",
    "    return df\n"
   ]
  },
  {
   "cell_type": "code",
   "execution_count": 121,
   "metadata": {},
   "outputs": [],
   "source": [
    "cr_fr_parallel_raw = add_lists_to_dataframe(raw_fr_cr_df,pg8_split,pg7_split,'fr','cr') #removed last 3 rows by hand. just names"
   ]
  },
  {
   "cell_type": "code",
   "execution_count": 124,
   "metadata": {},
   "outputs": [],
   "source": [
    "cr_fr_parallel_raw.to_csv(r'C:\\Users\\yush\\OneDrive\\Desktop\\papers\\kreol-benchmark\\data_collection\\data_extracted\\raw\\fr_cr_parallel_raw.csv',index=False)"
   ]
  },
  {
   "cell_type": "markdown",
   "metadata": {},
   "source": [
    "### en_cr manual translation"
   ]
  },
  {
   "cell_type": "code",
   "execution_count": 138,
   "metadata": {},
   "outputs": [],
   "source": [
    "pg5 = pdf_reader.pages[5].extract_text()\n",
    "pg6 = pdf_reader.pages[6].extract_text()\n",
    "pg5 = remove_num_npage_space(pg5)\n",
    "pg6 = remove_num_npage_space(pg6)\n",
    "pg5_split = pg5.split('.')\n",
    "pg6_split = pg6.split('.')"
   ]
  },
  {
   "cell_type": "code",
   "execution_count": 139,
   "metadata": {},
   "outputs": [],
   "source": [
    "raw_en_cr_df = pd.DataFrame()"
   ]
  },
  {
   "cell_type": "code",
   "execution_count": 145,
   "metadata": {},
   "outputs": [],
   "source": [
    "raw_en_cr_parallel = add_lists_to_dataframe(raw_en_cr_df,pg5_split,pg6_split,'en','cr',3)"
   ]
  },
  {
   "cell_type": "code",
   "execution_count": 146,
   "metadata": {},
   "outputs": [],
   "source": [
    "raw_en_cr_parallel.to_csv(r'C:\\Users\\yush\\OneDrive\\Desktop\\papers\\kreol-benchmark\\data_collection\\data_extracted\\raw\\en_cr_parallel_raw.csv',index=False)"
   ]
  },
  {
   "cell_type": "markdown",
   "metadata": {},
   "source": [
    "### monolingual creole text parsing"
   ]
  },
  {
   "cell_type": "code",
   "execution_count": 185,
   "metadata": {},
   "outputs": [],
   "source": [
    "import unicodedata"
   ]
  },
  {
   "cell_type": "code",
   "execution_count": 187,
   "metadata": {},
   "outputs": [],
   "source": [
    "def remove_special_characters(raw_str):\n",
    "    return ''.join(char for char in raw_str if unicodedata.category(char)[0] != 'C')"
   ]
  },
  {
   "cell_type": "code",
   "execution_count": 195,
   "metadata": {},
   "outputs": [],
   "source": [
    "cr_sentences = []\n",
    "for page in list_of_cr_pages:\n",
    "    raw_str = remove_num_npage_space(pdf_reader.pages[page].extract_text())\n",
    "    raw_str = remove_special_characters(raw_str)\n",
    "    raw_str_split = raw_str.split('.')\n",
    "    raw_str_split = [x.strip(' ') for x in raw_str_split if len(x)>4]\n",
    "    cr_sentences.extend(raw_str_split)"
   ]
  },
  {
   "cell_type": "code",
   "execution_count": 197,
   "metadata": {},
   "outputs": [],
   "source": [
    "raw_cr_df = pd.DataFrame(cr_sentences,index=range(len(cr_sentences)),columns=['cr'])"
   ]
  },
  {
   "cell_type": "code",
   "execution_count": 199,
   "metadata": {},
   "outputs": [],
   "source": [
    "raw_cr_df.to_csv(r'C:\\Users\\yush\\OneDrive\\Desktop\\papers\\kreol-benchmark\\data_collection\\data_extracted\\raw\\cr_monolingual_raw.csv',index=False)"
   ]
  },
  {
   "cell_type": "markdown",
   "metadata": {},
   "source": [
    "### ToDo: pages to manually parse"
   ]
  },
  {
   "cell_type": "markdown",
   "metadata": {},
   "source": [
    "## Book 2 : Lortograf Kreol Morisien (Carpooran)"
   ]
  },
  {
   "cell_type": "code",
   "execution_count": 253,
   "metadata": {},
   "outputs": [],
   "source": [
    "list_of_en_cr_pages = [\n",
    "    (5,6),(8,9)\n",
    "]\n",
    "list_of_cr_fr_pages = [\n",
    "    (8,10)\n",
    "]\n",
    "omit_pages = [12,21,22,23,24,25,26,36,37,38,39] + list(range(54,70)) + list(range(0,12))\n",
    "list_of_cr_pages = [x for x in range(len(pdf_reader.pages)) if x not in omit_pages]"
   ]
  },
  {
   "cell_type": "code",
   "execution_count": 202,
   "metadata": {},
   "outputs": [],
   "source": [
    "pdf_path = r\"C:\\Users\\yush\\OneDrive\\Desktop\\papers\\kreol-benchmark\\data_collection\\books\\Lortograf Kreol Morisien.pdf\"\n",
    "extracted_text = extract_text_from_pdf(pdf_path)\n",
    "pdf_reader = PyPDF2.PdfReader(pdf_path)"
   ]
  },
  {
   "cell_type": "code",
   "execution_count": 212,
   "metadata": {},
   "outputs": [],
   "source": [
    "def make_parallel(pdfObj,pg1,pg2,src_lang,tgt_lang):\n",
    "    pg5 = pdfObj.pages[pg1].extract_text()\n",
    "    pg6 = pdfObj.pages[pg2].extract_text()\n",
    "    pg5 = remove_num_npage_space(pg5)\n",
    "    pg6 = remove_num_npage_space(pg6)\n",
    "    pg5 = remove_special_characters(pg5)\n",
    "    pg6 = remove_special_characters(pg6)\n",
    "    pg5_split = pg5.split('.')\n",
    "    pg6_split = pg6.split('.')\n",
    "    if len(pg5_split) != len(pg6_split):\n",
    "        print(f\"{src_lang} & {tgt_lang} text is not parallel.\")\n",
    "    return pg5_split,pg6_split"
   ]
  },
  {
   "cell_type": "code",
   "execution_count": 213,
   "metadata": {},
   "outputs": [
    {
     "name": "stdout",
     "output_type": "stream",
     "text": [
      "en & cr text is not parallel.\n"
     ]
    }
   ],
   "source": [
    "pg5_split,pg6_split = make_parallel(pdf_reader,5,6,'en','cr')"
   ]
  },
  {
   "cell_type": "code",
   "execution_count": 220,
   "metadata": {},
   "outputs": [],
   "source": [
    "raw_cr_en_temp_df = pd.DataFrame()\n",
    "raw_cr_en_temp_df_parallel_raw = add_lists_to_dataframe(raw_cr_en_temp_df,pg5_split,pg6_split,'en','cr') "
   ]
  },
  {
   "cell_type": "code",
   "execution_count": 222,
   "metadata": {},
   "outputs": [],
   "source": [
    "raw_cr_en_temp_df_parallel_raw.to_csv(r'C:\\Users\\yush\\OneDrive\\Desktop\\papers\\kreol-benchmark\\data_collection\\data_extracted\\raw\\cr_en_parallel_temp_raw.csv',index=False)"
   ]
  },
  {
   "cell_type": "code",
   "execution_count": 227,
   "metadata": {},
   "outputs": [
    {
     "name": "stdout",
     "output_type": "stream",
     "text": [
      "en & cr text is not parallel.\n"
     ]
    }
   ],
   "source": [
    "pg9_split,pg8_split = make_parallel(pdf_reader,9,8,'en','cr')"
   ]
  },
  {
   "cell_type": "code",
   "execution_count": 232,
   "metadata": {},
   "outputs": [],
   "source": [
    "raw_cr_en_temp_df2 = pd.DataFrame()\n",
    "raw_cr_en_temp_df_parallel_raw2 = add_lists_to_dataframe(raw_cr_en_temp_df2,pg9_split,pg8_split,'en','cr')"
   ]
  },
  {
   "cell_type": "code",
   "execution_count": 234,
   "metadata": {},
   "outputs": [],
   "source": [
    "raw_cr_en_temp_df_parallel_raw2.to_csv(r'C:\\Users\\yush\\OneDrive\\Desktop\\papers\\kreol-benchmark\\data_collection\\data_extracted\\raw\\cr_en_parallel_temp_raw2.csv',index=False)"
   ]
  },
  {
   "cell_type": "markdown",
   "metadata": {},
   "source": [
    "made 2 parallel cr->en files which are temp. will join all temp files later"
   ]
  },
  {
   "cell_type": "code",
   "execution_count": 236,
   "metadata": {},
   "outputs": [],
   "source": [
    "pg8_split,pg10_split = make_parallel(pdf_reader,8,10,'cr','fr')"
   ]
  },
  {
   "cell_type": "code",
   "execution_count": 245,
   "metadata": {},
   "outputs": [],
   "source": [
    "raw_cr_fr_temp_df = pd.DataFrame()\n",
    "raw_cr_fr_temp_df_parallel_raw = add_lists_to_dataframe(raw_cr_fr_temp_df,pg10_split,pg8_split,'fr','cr') "
   ]
  },
  {
   "cell_type": "code",
   "execution_count": 248,
   "metadata": {},
   "outputs": [],
   "source": [
    "raw_cr_fr_temp_df_parallel_raw.to_csv(r'C:\\Users\\yush\\OneDrive\\Desktop\\papers\\kreol-benchmark\\data_collection\\data_extracted\\raw\\cr_fr_parallel_temp_raw.csv',index=False)"
   ]
  },
  {
   "cell_type": "markdown",
   "metadata": {},
   "source": [
    "### cr monolingual "
   ]
  },
  {
   "cell_type": "code",
   "execution_count": 257,
   "metadata": {},
   "outputs": [],
   "source": [
    "cr_sentences = []\n",
    "for page in list_of_cr_pages:\n",
    "    raw_str = remove_num_npage_space(pdf_reader.pages[page].extract_text())\n",
    "    raw_str = remove_special_characters(raw_str)\n",
    "    raw_str_split = raw_str.split('.')\n",
    "    raw_str_split = [x.strip(' ') for x in raw_str_split if len(x.split(' '))>4]\n",
    "    cr_sentences.extend(raw_str_split)"
   ]
  },
  {
   "cell_type": "code",
   "execution_count": 259,
   "metadata": {},
   "outputs": [
    {
     "data": {
      "text/plain": [
       "426"
      ]
     },
     "execution_count": 259,
     "metadata": {},
     "output_type": "execute_result"
    }
   ],
   "source": [
    "len(cr_sentences)"
   ]
  },
  {
   "cell_type": "code",
   "execution_count": 261,
   "metadata": {},
   "outputs": [],
   "source": [
    "raw_cr_df = pd.DataFrame(cr_sentences,index=range(len(cr_sentences)),columns=['cr'])"
   ]
  },
  {
   "cell_type": "code",
   "execution_count": 265,
   "metadata": {},
   "outputs": [],
   "source": [
    "raw_existing_cr = pd.read_csv(r'C:\\Users\\yush\\OneDrive\\Desktop\\papers\\kreol-benchmark\\data_collection\\data_extracted\\raw\\cr_monolingual_raw.csv')"
   ]
  },
  {
   "cell_type": "code",
   "execution_count": 266,
   "metadata": {},
   "outputs": [],
   "source": [
    "raw_existing_cr = pd.concat([raw_existing_cr,raw_cr_df])"
   ]
  },
  {
   "cell_type": "code",
   "execution_count": 268,
   "metadata": {},
   "outputs": [],
   "source": [
    "raw_existing_cr.reset_index(inplace=True,drop=True)"
   ]
  },
  {
   "cell_type": "code",
   "execution_count": 269,
   "metadata": {},
   "outputs": [],
   "source": [
    "raw_existing_cr.to_csv(r'C:\\Users\\yush\\OneDrive\\Desktop\\papers\\kreol-benchmark\\data_collection\\data_extracted\\raw\\cr_monolingual_raw.csv',index=False)"
   ]
  },
  {
   "cell_type": "markdown",
   "metadata": {},
   "source": [
    "### merging existing temp"
   ]
  },
  {
   "cell_type": "code",
   "execution_count": 272,
   "metadata": {},
   "outputs": [],
   "source": [
    "save_path = r'C:\\Users\\yush\\OneDrive\\Desktop\\papers\\kreol-benchmark\\data_collection\\data_extracted\\raw'"
   ]
  },
  {
   "cell_type": "code",
   "execution_count": 273,
   "metadata": {},
   "outputs": [],
   "source": [
    "base = pd.read_csv(r'C:\\Users\\yush\\OneDrive\\Desktop\\papers\\kreol-benchmark\\data_collection\\data_extracted\\raw\\en_cr_parallel_raw.csv')\n",
    "temp1 = pd.read_csv(r'C:\\Users\\yush\\OneDrive\\Desktop\\papers\\kreol-benchmark\\data_collection\\data_extracted\\raw\\cr_en_parallel_temp_raw.csv')\n",
    "temp2 = pd.read_csv(r'C:\\Users\\yush\\OneDrive\\Desktop\\papers\\kreol-benchmark\\data_collection\\data_extracted\\raw\\cr_en_parallel_temp_raw2.csv')"
   ]
  },
  {
   "cell_type": "code",
   "execution_count": 277,
   "metadata": {},
   "outputs": [],
   "source": [
    "merged = pd.concat([base,temp1,temp2])"
   ]
  },
  {
   "cell_type": "code",
   "execution_count": 279,
   "metadata": {},
   "outputs": [],
   "source": [
    "merged.reset_index(inplace=True,drop=True)"
   ]
  },
  {
   "cell_type": "code",
   "execution_count": 282,
   "metadata": {},
   "outputs": [],
   "source": [
    "merged.to_csv(r'C:\\Users\\yush\\OneDrive\\Desktop\\papers\\kreol-benchmark\\data_collection\\data_extracted\\raw\\en_cr_parallel_raw.csv')"
   ]
  },
  {
   "cell_type": "code",
   "execution_count": 283,
   "metadata": {},
   "outputs": [],
   "source": [
    "base = pd.read_csv(r'C:\\Users\\yush\\OneDrive\\Desktop\\papers\\kreol-benchmark\\data_collection\\data_extracted\\raw\\fr_cr_parallel_raw.csv')\n",
    "temp1 = pd.read_csv(r'C:\\Users\\yush\\OneDrive\\Desktop\\papers\\kreol-benchmark\\data_collection\\data_extracted\\raw\\cr_fr_parallel_temp_raw.csv')"
   ]
  },
  {
   "cell_type": "code",
   "execution_count": 284,
   "metadata": {},
   "outputs": [],
   "source": [
    "merged = pd.concat([base,temp1])"
   ]
  },
  {
   "cell_type": "code",
   "execution_count": 286,
   "metadata": {},
   "outputs": [],
   "source": [
    "merged.reset_index(inplace=True,drop=True)"
   ]
  },
  {
   "cell_type": "code",
   "execution_count": 287,
   "metadata": {},
   "outputs": [],
   "source": [
    "merged.to_csv(r'C:\\Users\\yush\\OneDrive\\Desktop\\papers\\kreol-benchmark\\data_collection\\data_extracted\\raw\\fr_cr_parallel_raw.csv',index=False)"
   ]
  },
  {
   "cell_type": "markdown",
   "metadata": {},
   "source": [
    "## Book 3: A reflection on scientific and mathematical terms in Mauritian Kreol at primary level: an overview\n",
    "paper has 1-1 translations of scientific terms"
   ]
  },
  {
   "cell_type": "code",
   "execution_count": 288,
   "metadata": {},
   "outputs": [],
   "source": [
    "pages_to_parse = list(range(14,18)) + [20]"
   ]
  },
  {
   "cell_type": "code",
   "execution_count": 289,
   "metadata": {},
   "outputs": [],
   "source": [
    "pdf_path = r\"C:\\Users\\yush\\OneDrive\\Desktop\\papers\\kreol-benchmark\\data_collection\\books\\A_reflection_on_scientific_and_mathematical_terms_.pdf\"\n",
    "extracted_text = extract_text_from_pdf(pdf_path)\n",
    "pdf_reader = PyPDF2.PdfReader(pdf_path)"
   ]
  },
  {
   "cell_type": "code",
   "execution_count": 297,
   "metadata": {},
   "outputs": [
    {
     "name": "stdout",
     "output_type": "stream",
     "text": [
      "14 \n",
      "  \n",
      " \n",
      "Mathematical terms and phrases  \n",
      "Word categories for mathematics  \n",
      "Green words : High T/C vehicularity [equivalents already exist in the dictionary/common use \n",
      "of language to denote same or similar reality]  \n",
      " \n",
      "Word/phrase in the source language  Word/phrase in the target language  \n",
      "Addition  Adision  \n",
      "Acute angle  Lang egi  \n",
      "Anticlockwise  Kont sans enn mont  \n",
      "Arc Ark \n",
      "Ascending o rder Lord montan/  \n",
      "Average  Mwayenn  \n",
      "Calculate  Kalkile  \n",
      "Cardinal number  Nonb kardinal  \n",
      "Clockwise  Dan sans enn mont  \n",
      "Coordinates  kordone  \n",
      "Cylinder  Silenn  \n",
      "Decimal  Desimal  \n",
      "Digit  sif \n",
      "Find the difference  Rod diferans  \n",
      "If-then statement  Si-alor \n",
      "Magnitude  Magn itid \n",
      "Mean  Mwayenn  \n",
      "Minus  Retire  \n",
      "Multiple  miltip  \n",
      "Ordinal numbers  Nonb ordinal  \n",
      "Parabola  Parabol  \n",
      "Pentagon, hexagon, heptagon,...decagon  Pentagonn, hexagonn, heptagonn, ...  \n",
      "Perpendicular  Perpandikiler  \n",
      "Plus Plis \n",
      "Polygon  Poligonn  \n",
      "Product  Prodwi  \n",
      "Quadrant  Kadran  \n",
      "Ratio  Proporsion  \n",
      "Rational  Rasionel  \n",
      "Solve  Rezoud  \n",
      "Take away  Pran/ tir  \n",
      "Trapezium  Trapez  \n",
      "What is the sum  Ki som  \n",
      "What is the total  Ki total..  \n",
      "15 \n",
      " Write in figures  Ekrir an sif / dan form sif  \n",
      "Intersection  Interseksion  \n",
      "Total cost  Kou total  \n",
      "Simple interest  Lintere sinp  \n",
      "Table 1: Mathematical high T/C vehicularity words  \n",
      " \n",
      " \n",
      "Red words : Low T/C vehicularity [highly technical; convergence towards conservation of \n",
      "original term, to be used as loanword]  \n",
      "Word/phrase in the source language  Word/phrase in the target language  \n",
      "Adjacent  Adjacent  \n",
      "Apex  Apex  \n",
      "Base (geometry)  Base  \n",
      "Cross section  Cross -section [lakoup transversal??]  \n",
      "Highest common factor  Highest common factor  \n",
      "Kite Kite \n",
      "Least common multiple  Least common multiple  \n",
      "Subset  Subset  \n",
      "Matrix  Matrix  \n",
      "Table 2: Mathematical low T/C vehicularity words  \n",
      " \n",
      "Blue words:  Intermediate vehicularity [use of both forms {original loanword or new \n",
      "translated form} can be possible]  \n",
      "Word/phrase in the source language  Word/phrase in the target language  \n",
      "Axis (graph)  Axis/ Lax \n",
      "Curve  Kourb  \n",
      "Descending order  Descending order  \n",
      "Empty set  Set vid  \n",
      "Equilateral triangle  Triyang ekwilateral  \n",
      "Factor  Fakter  \n",
      "Median  Mediann  \n",
      "Mode  Mod (/mo:d/)  \n",
      "Right angle  Lang drwat  \n",
      "Right cylinder  Silenn drwat  \n",
      "Sector of a circle  Sekter enn serk  \n",
      "Segment of a circle  Segman enn serk  \n",
      "Set Union  Linion  \n",
      "Table 3: Mathematical intermediate T/C vehicularity words  \n",
      " \n",
      " \n",
      "16 \n",
      " Word categories for science  \n",
      "Green words : High T/C vehicularity [equivalents already exist in the dictionary/common use \n",
      "of language to denote s ame or similar reality]  \n",
      "Word/phrase in the source language  Word/phrase in the target language  \n",
      "Argon, boron, krypton  Argonn, Boronn, Kryptonn  \n",
      "As shown in  Kouma finn montre anba/dan  \n",
      "Atmosphere  latmosfer  \n",
      "Atom  Atom  \n",
      "Bacteria  Bakteri  \n",
      "Barometric pressure  Presion barometrk  \n",
      "Biomass  Biomas  \n",
      "Canned foods  Aliman/manze dan bwat/konserv ou konserv  \n",
      "Carcinogen  kanserizenn  \n",
      "Clay soil  (later) arzil  \n",
      "Contaminant  Kontaminan  \n",
      "Crawl  Ranpe  \n",
      "Density  Dansite  \n",
      "Diagram  Diagram  \n",
      "Disintegrate  Dezintegre  \n",
      "Displacement  Deplasman / Displacement  \n",
      "Dissolve  Disoud/ fonn  \n",
      "Distance  Distans  \n",
      "Estuary  Estier  \n",
      "Fauna  Lafonn  \n",
      "Filtered and purified  Filtre ek pirifie  \n",
      "Fin Nazwar  \n",
      "Flora  Laflor  \n",
      "Form  Form  \n",
      "Fossil fuel  Lenerzi fosil/ karbiran fosil  \n",
      "Germs  Mikrob  \n",
      "Give one other way to kill the ger ms in \n",
      "filtered water  Donn enn lot fason pou touy mikrob dan delo \n",
      "filtre \n",
      "Habitat  Abita  \n",
      "Hazardous waste  Dese toxik  \n",
      "How each child is caring for his/her pet \n",
      "animal  Kouma sak zanfan pe pran so zanimo swin  \n",
      "I prepare two potted plants of the same type  Mo pre par/pran de plant dan po  \n",
      "Insects  Insek  \n",
      "It is a bad habit to talk while eating  Li pa enn bon labitid koze labous plin  \n",
      "Matter  Matier  \n",
      "Microbes  Mikrob  \n",
      "Movement  Mouvman  \n",
      "Nitrogen  Nitrozenn  \n",
      "Permeability  Permeabilite  \n",
      "Phase (moon)  Faz \n",
      "Porosity  Porozite  \n",
      "17 \n",
      " Quantity  Kantite  \n",
      "Saturation  Satirasion  \n",
      "Sense organs  Organn sans  \n",
      "Speed  Vites  \n",
      "Sunlight  Lalimier soley  \n",
      "Surface water  Delo sirfas  \n",
      "Tail Lake  \n",
      "Thermal power station  Stasion termik  \n",
      "Time  Letan  \n",
      "Twigs  Ti baton  \n",
      "Velocity  Velosite  \n",
      "Volume  Volim  \n",
      "Waste  Dese  \n",
      "Table 4: Scientific high T/C vehicularity words  \n",
      " \n",
      "Red words : Low T/C vehicularity [highly technical ; convergence towards conservation of \n",
      "original term, to be used as loanword]  \n",
      "Word/phrase in the source language  Word/phrase in the target language  \n",
      "Inorganic compounds  Konpoze inorganik  \n",
      "Mass  Pwa /Mas  \n",
      "My ears are my sense of hearing  Mo tande avek mo zoreye  \n",
      "My hands are my sense of touch  Mo touse avek mo lame  \n",
      "Scale  Lesel  \n",
      "Sight, hearing, smell, taste and touch  Lavi, lwi, lodora, gou, touse  \n",
      "To scale  Eselone  \n",
      "Wind machines  Masinn divan  \n",
      "Table 5: Scientific low T/C vehicularity words  \n",
      " \n",
      " \n",
      " \n",
      " \n",
      " \n",
      " \n",
      " \n",
      " \n",
      "20 \n",
      " Scale (noun)  Creole equivalent  \n",
      "(scale classification)  Barem  \n",
      "(scale as magnitu de) Inportans  \n",
      "(fish scale)  Lekay  \n",
      "(scale for measure)  Gradiasion  \n",
      "(scale to measure mass)  Balans  \n",
      "Scale  Lesel  \n",
      "Table 6: Possible equivalents of scale as noun  \n",
      " \n",
      "Scale (verb)  Creole equivalent  \n",
      "To measure  Mezire  \n",
      "To weigh  Peze  \n",
      "To scale (fish)  Tir lekay  \n",
      "To scale (Reduce/enlarge)  Diminie/agrandi  \n",
      "Eselone  \n",
      "Table 7: Possible equivalents of to scale as verb  \n",
      " \n",
      "As it can be seen from the table, the word scale can be translated differently in Kreol \n",
      "according to the context, with relative ease. However, the defini tion of ‘scale’ and ‘to scale’  \n",
      "is problematic in one sense : ‘a graduated range of values/ to a graduated range of values/ to a \n",
      "magnified state’. The French equivalent is straightforward: ‘ à l’echelle’ and ‘ échelonner’. \n",
      "However, such a definition is not pre sent in Diksioner Morisien. ‘Lesel’ refers to ‘ladder’. It \n",
      "is possible to propose ‘lesel’ for scale. The difficulty may lie in the decoding process (‘sa ti \n",
      "loto-la finn fabrike avek enn lesel 1:30’). The verbal form can be more problematic if we \n",
      "proceed by  morphological derivation: lesel -eselone. However, the readability level is very \n",
      "low and it is a form which is not common in Kreol  verbs. It is possible to propose another \n",
      "alternative: ‘agrandi/diminie dapre proporsion’ (depending on context) and ‘fer/fabr ike dapre \n",
      "lesel’. All the forms have to be tested for readability and ease of use.  \n",
      " \n",
      " \n",
      " \n",
      " \n",
      " \n",
      " \n",
      " \n",
      " \n"
     ]
    }
   ],
   "source": [
    "for i in pages_to_parse:\n",
    "    print(pdf_reader.pages[i].extract_text())"
   ]
  },
  {
   "cell_type": "code",
   "execution_count": 295,
   "metadata": {},
   "outputs": [
    {
     "data": {
      "text/plain": [
       "['__abstractmethods__',\n",
       " '__annotations__',\n",
       " '__callable_proto_members_only__',\n",
       " '__class__',\n",
       " '__class_getitem__',\n",
       " '__contains__',\n",
       " '__delattr__',\n",
       " '__delitem__',\n",
       " '__dict__',\n",
       " '__dir__',\n",
       " '__doc__',\n",
       " '__eq__',\n",
       " '__format__',\n",
       " '__ge__',\n",
       " '__getattribute__',\n",
       " '__getitem__',\n",
       " '__gt__',\n",
       " '__hash__',\n",
       " '__init__',\n",
       " '__init_subclass__',\n",
       " '__iter__',\n",
       " '__le__',\n",
       " '__len__',\n",
       " '__lt__',\n",
       " '__module__',\n",
       " '__ne__',\n",
       " '__new__',\n",
       " '__parameters__',\n",
       " '__protocol_attrs__',\n",
       " '__reduce__',\n",
       " '__reduce_ex__',\n",
       " '__repr__',\n",
       " '__setattr__',\n",
       " '__setitem__',\n",
       " '__sizeof__',\n",
       " '__slots__',\n",
       " '__str__',\n",
       " '__subclasshook__',\n",
       " '__weakref__',\n",
       " '_abc_impl',\n",
       " '_add_transformation_matrix',\n",
       " '_clone',\n",
       " '_content_stream_rename',\n",
       " '_debug_for_extract',\n",
       " '_expand_mediabox',\n",
       " '_extract_text',\n",
       " '_get_fonts',\n",
       " '_is_protocol',\n",
       " '_is_runtime_protocol',\n",
       " '_merge_page',\n",
       " '_merge_resources',\n",
       " '_push_pop_gs',\n",
       " '_reference_clone',\n",
       " 'addTransformation',\n",
       " 'add_transformation',\n",
       " 'annotations',\n",
       " 'artBox',\n",
       " 'artbox',\n",
       " 'bleedBox',\n",
       " 'bleedbox',\n",
       " 'clear',\n",
       " 'clone',\n",
       " 'compressContentStreams',\n",
       " 'compress_content_streams',\n",
       " 'copy',\n",
       " 'createBlankPage',\n",
       " 'create_blank_page',\n",
       " 'cropBox',\n",
       " 'cropbox',\n",
       " 'extractText',\n",
       " 'extract_text',\n",
       " 'extract_xform_text',\n",
       " 'fromkeys',\n",
       " 'get',\n",
       " 'getContents',\n",
       " 'getObject',\n",
       " 'getXmpMetadata',\n",
       " 'get_contents',\n",
       " 'get_object',\n",
       " 'hash_func',\n",
       " 'hash_value',\n",
       " 'hash_value_data',\n",
       " 'images',\n",
       " 'indirect_ref',\n",
       " 'indirect_reference',\n",
       " 'items',\n",
       " 'keys',\n",
       " 'mediaBox',\n",
       " 'mediabox',\n",
       " 'mergePage',\n",
       " 'mergeRotatedPage',\n",
       " 'mergeRotatedScaledPage',\n",
       " 'mergeRotatedScaledTranslatedPage',\n",
       " 'mergeRotatedTranslatedPage',\n",
       " 'mergeScaledPage',\n",
       " 'mergeScaledTranslatedPage',\n",
       " 'mergeTransformedPage',\n",
       " 'mergeTranslatedPage',\n",
       " 'merge_page',\n",
       " 'pdf',\n",
       " 'pop',\n",
       " 'popitem',\n",
       " 'raw_get',\n",
       " 'readFromStream',\n",
       " 'read_from_stream',\n",
       " 'rotate',\n",
       " 'rotateClockwise',\n",
       " 'rotateCounterClockwise',\n",
       " 'rotate_clockwise',\n",
       " 'rotation',\n",
       " 'scale',\n",
       " 'scaleBy',\n",
       " 'scaleTo',\n",
       " 'scale_by',\n",
       " 'scale_to',\n",
       " 'setdefault',\n",
       " 'transfer_rotation_to_content',\n",
       " 'trimBox',\n",
       " 'trimbox',\n",
       " 'update',\n",
       " 'user_unit',\n",
       " 'values',\n",
       " 'writeToStream',\n",
       " 'write_to_stream',\n",
       " 'xmpMetadata',\n",
       " 'xmp_metadata']"
      ]
     },
     "execution_count": 295,
     "metadata": {},
     "output_type": "execute_result"
    }
   ],
   "source": [
    "'''\n",
    "Addition  Adision  \n",
    "Acute angle  Lang egi  \n",
    "Anticlockwise  Kont sans enn mont  \n",
    "Arc Ark \n",
    "Ascending o rder Lord montan/  \n",
    "Average  Mwayenn  \n",
    "Calculate  Kalkile  \n",
    "Cardinal number  Nonb kardinal  \n",
    "Clockwise  Dan sans enn mont  \n",
    "Coordinates  kordone  \n",
    "Cylinder  Silenn  \n",
    "Decimal  Desimal  \n",
    "Digit  sif \n",
    "Find the difference  Rod diferans  \n",
    "If-then statement  Si-alor \n",
    "Magnitude  Magn itid \n",
    "Mean  Mwayenn  \n",
    "Minus  Retire  \n",
    "Multiple  miltip  \n",
    "Ordinal numbers  Nonb ordinal  \n",
    "Parabola  Parabol  \n",
    "Pentagon, hexagon, heptagon,...decagon  Pentagonn, hexagonn, heptagonn, ...  \n",
    "Perpendicular  Perpandikiler  \n",
    "Plus Plis \n",
    "Polygon  Poligonn  \n",
    "Product  Prodwi  \n",
    "Quadrant  Kadran  \n",
    "Ratio  Proporsion  \n",
    "Rational  Rasionel  \n",
    "Solve  Rezoud  \n",
    "Take away  Pran/ tir  \n",
    "Trapezium  Trapez  \n",
    "What is the sum  Ki som  \n",
    "What is the total  Ki total.. \n",
    "\n",
    "Adjacent  Adjacent  \n",
    "Apex  Apex  \n",
    "Base (geometry)  Base  \n",
    "Cross section  Cross -section [lakoup transversal??]  \n",
    "Highest common factor  Highest common factor  \n",
    "Kite Kite \n",
    "Least common multiple  Least common multiple  \n",
    "Subset  Subset  \n",
    "Matrix  Matrix  \n",
    " \n",
    "Blue words:  Intermediate vehicularity [use of both forms {original loanword or new \n",
    "translated form} can be possible]  \n",
    "Word/phrase in the source language  Word/phrase in the target language  \n",
    "Axis (graph)  Axis/ Lax \n",
    "Curve  Kourb  \n",
    "Descending order  Descending order  \n",
    "Empty set  Set vid  \n",
    "Equilateral triangle  Triyang ekwilateral  \n",
    "Factor  Fakter  \n",
    "Median  Mediann  \n",
    "Mode  Mod (/mo:d/)  \n",
    "Right angle  Lang drwat  \n",
    "Right cylinder  Silenn drwat  \n",
    "Sector of a circle  Sekter enn serk  \n",
    "Segment of a circle  Segman enn serk  \n",
    "Set Union  Linion  \n",
    " \n",
    "Word categories for science  \n",
    "Green words : High T/C vehicularity [equivalents already exist in the dictionary/common use \n",
    "of language to denote s ame or similar reality]  \n",
    "Word/phrase in the source language  Word/phrase in the target language  \n",
    "Argon, boron, krypton  Argonn, Boronn, Kryptonn  \n",
    "As shown in  Kouma finn montre anba/dan  \n",
    "Atmosphere  latmosfer  \n",
    "Atom  Atom  \n",
    "Bacteria  Bakteri  \n",
    "Barometric pressure  Presion barometrk \n",
    "\n",
    "Biomass  Biomas  \n",
    "Canned foods  Aliman/manze dan bwat/konserv ou konserv  \n",
    "Carcinogen  kanserizenn  \n",
    "Clay soil  (later) arzil  \n",
    "Contaminant  Kontaminan  \n",
    "Crawl  Ranpe  \n",
    "Density  Dansite  \n",
    "Diagram  Diagram  \n",
    "Disintegrate  Dezintegre  \n",
    "Displacement  Deplasman / Displacement  \n",
    "Dissolve  Disoud/ fonn  \n",
    "Distance  Distans  \n",
    "Estuary  Estier  \n",
    "Fauna  Lafonn  \n",
    "Filtered and purified  Filtre ek pirifie  \n",
    "Fin Nazwar  \n",
    "Flora  Laflor  \n",
    "Form  Form  \n",
    "Fossil fuel  Lenerzi fosil/ karbiran fosil  \n",
    "Germs  Mikrob  \n",
    "Give one other way to kill the ger ms in \n",
    "filtered water  Donn enn lot fason pou touy mikrob dan delo \n",
    "filtre \n",
    "Habitat  Abita  \n",
    "Hazardous waste  Dese toxik  \n",
    "How each child is caring for his/her pet \n",
    "animal  Kouma sak zanfan pe pran so zanimo swin  \n",
    "I prepare two potted plants of the same type  Mo pre par/pran de plant dan po  \n",
    "Insects  Insek  \n",
    "It is a bad habit to talk while eating  Li pa enn bon labitid koze labous plin  \n",
    "Matter  Matier  \n",
    "Microbes  Mikrob  \n",
    "Movement  Mouvman  \n",
    "Nitrogen  Nitrozenn  \n",
    "Permeability  Permeabilite  \n",
    "Phase (moon)  Faz \n",
    "Porosity  Porozite  \n",
    "Quantity  Kantite  \n",
    "Saturation  Satirasion  \n",
    "Sense organs  Organn sans  \n",
    "Speed  Vites  \n",
    "Sunlight  Lalimier soley  \n",
    "Surface water  Delo sirfas  \n",
    "Tail Lake  \n",
    "Thermal power station  Stasion termik  \n",
    "Time  Letan  \n",
    "Twigs  Ti baton  \n",
    "Velocity  Velosite  \n",
    "Volume  Volim  \n",
    "Waste  Dese  \n",
    " \n",
    "\n",
    "Inorganic compounds  Konpoze inorganik  \n",
    "Mass  Pwa  \n",
    "My ears are my sense of hearing  Mo tande avek mo zoreye  \n",
    "My hands are my sense of touch  Mo touse avek mo lame  \n",
    "Scale  Lesel  \n",
    "Sight, hearing, smell, taste and touch  Lavi, lwi, lodora, gou, touse  \n",
    "To scale  Eselone  \n",
    "Wind machines  Masinn divan  \n",
    "\n",
    "Scale (noun)  Creole equivalent  \n",
    "(scale classification)  Barem  \n",
    "(scale as magnitude) Inportans  \n",
    "(fish scale)  Lekay  \n",
    "(scale for measure)  Gradiasion  \n",
    "(scale to measure mass)  Balans  \n",
    "Scale  Lesel  \n",
    " \n",
    "Scale (verb)  Creole equivalent  \n",
    "To measure  Mezire  \n",
    "To weigh  Peze  \n",
    "To scale (fish)  Tir lekay  \n",
    "To scale (Reduce/enlarge)  Diminie/agrandi  \n",
    "'''"
   ]
  },
  {
   "cell_type": "code",
   "execution_count": 299,
   "metadata": {},
   "outputs": [],
   "source": [
    "data = {\n",
    "    'en': ['Addition', 'Acute angle', 'Anticlockwise', 'Arc', 'Ascending order', 'Average', 'Calculate', 'Cardinal number', 'Clockwise', 'Coordinates', 'Cylinder', 'Decimal', 'Digit', 'Find the difference', 'If-then statement', 'Magnitude', 'Mean', 'Minus', 'Multiple', 'Ordinal numbers', 'Parabola', 'Pentagon, hexagon, heptagon,...decagon', 'Perpendicular', 'Plus', 'Polygon', 'Product', 'Quadrant', 'Ratio', 'Rational', 'Solve', 'Take away', 'Trapezium', 'What is the sum', 'What is the total'],\n",
    "    'cr': ['Adision', 'Lang egi', 'Kont sans enn mont', 'Ark', 'Lord montan', 'Mwayenn', 'Kalkile', 'Nonb kardinal', 'Dan sans enn mont', 'kordone', 'Silenn', 'Desimal', 'sif', 'Rod diferans', 'Si-alor', 'Magn itid', 'Mwayenn', 'Retire', 'miltip', 'Nonb ordinal', 'Parabol', 'Pentagonn, hexagonn, heptagonn,...', 'Perpandikiler', 'Plis', 'Poligonn', 'Prodwi', 'Kadran', 'Proporsion', 'Rasionel', 'Rezoud', 'Pran/ tir', 'Trapez', 'Ki som', 'Ki total']\n",
    "}\n",
    "\n",
    "data2 = {\n",
    "    'en': ['Adjacent', 'Apex', 'Base (geometry)', 'Cross section', 'Highest common factor', 'Kite', 'Least common multiple', 'Subset', 'Matrix', 'Axis (graph)', 'Curve', 'Descending order', 'Empty set', 'Equilateral triangle', 'Factor', 'Median', 'Mode', 'Right angle', 'Right cylinder', 'Sector of a circle', 'Segment of a circle', 'Set Union'],\n",
    "    'cr': ['Adjacent', 'Apex', 'Base', 'Cross-section', 'Highest common factor', 'Kite', 'Least common multiple', 'Subset', 'Matrix', 'Axis/ Lax', 'Kourb', 'Descending order', 'Set vid', 'Triyang ekwilateral', 'Fakter', 'Mediann', 'Mod', 'Lang drwat', 'Silenn drwat', 'Sekter enn serk', 'Segman enn serk', 'Linion']\n",
    "}\n",
    "\n",
    "data3 = {\n",
    "    'en': ['Argon, boron, krypton', 'As shown in', 'Atmosphere', 'Atom', 'Bacteria', 'Barometric pressure', 'Biomass', 'Canned foods', 'Carcinogen', 'Clay soil', 'Contaminant', 'Crawl', 'Density', 'Diagram', 'Disintegrate', 'Displacement', 'Dissolve', 'Distance', 'Estuary', 'Fauna', 'Filtered and purified', 'Fin', 'Flora', 'Form', 'Fossil fuel', 'Germs', 'Give one other way to kill the germs in filtered water', 'Habitat', 'Hazardous waste', 'How each child is caring for his/her pet animal', 'I prepare two potted plants of the same type', 'Insects', 'It is a bad habit to talk while eating', 'Matter', 'Microbes', 'Movement', 'Nitrogen', 'Permeability', 'Phase (moon)', 'Porosity', 'Quantity', 'Saturation', 'Sense organs', 'Speed', 'Sunlight', 'Surface water', 'Tail Lake', 'Thermal power station', 'Time', 'Twigs', 'Velocity', 'Volume', 'Waste'],\n",
    "    'cr': ['Argonn, Boronn, Kryptonn', 'Kouma finn montre anba/dan', 'Latmosfer', 'Atom', 'Bakteri', 'Presion barometrik', 'Biomas', 'Aliman/manze dan bwat/konserv ou konserv', 'Kanserizenn', '(later) arzil', 'Kontaminan', 'Ranpe', 'Dansite', 'Diagram', 'Dezintegre', 'Deplasman / Displacement', 'Disoud/ fonn', 'Distans', 'Estier', 'Lafonn', 'Filtre ek pirifie', 'Nazwar', 'Laflor', 'Form', 'Lenerzi fosil/ karbiran fosil', 'Mikrob', 'Donn enn lot fason pou touy mikrob dan delo filtre', 'Abita', 'Dese toxik', 'Kouma sak zanfan pe pran so zanimo swin', 'Mo pre par/pran de plant dan po', 'Insek', 'Li pa enn bon labitid koze labous plin', 'Matier', 'Mikrob', 'Mouvman', 'Nitrozenn', 'Permeabilite', 'Faz', 'Porozite', 'Kantite', 'Satirasion', 'Organn sans', 'Vites', 'Lalimier soley', 'Delo sirfas', 'Tail Lake', 'Stasion termik', 'Letan', 'Ti baton', 'Velosite', 'Volim', 'Dese']\n",
    "}\n",
    "\n",
    "data4 = {\n",
    "    'en': ['Inorganic compounds', 'Mass', 'My ears are my sense of hearing', 'My hands are my sense of touch', 'Scale', 'Sight, hearing, smell, taste and touch', 'To scale', 'Wind machines', 'Scale (noun)', '(scale classification)', '(scale as magnitude)', '(fish scale)', '(scale for measure)', '(scale to measure mass)', 'Scale'],\n",
    "    'cr': ['Konpoze inorganik', 'Pwa', 'Mo tande avek mo zoreye', 'Mo touse avek mo lame', 'Lesel', 'Lavi, lwi, lodora, gou, touse', 'Eselone', 'Masinn divan', 'Lesel', 'Barem', 'Inportans', 'Lekay', 'Gradiasion', 'Balans', 'Lesel']\n",
    "}"
   ]
  },
  {
   "cell_type": "code",
   "execution_count": 309,
   "metadata": {},
   "outputs": [],
   "source": [
    "merged_dict = {}"
   ]
  },
  {
   "cell_type": "code",
   "execution_count": 310,
   "metadata": {},
   "outputs": [],
   "source": [
    "for d in [data, data2, data3, data4]:\n",
    "    for key, value in d.items():\n",
    "        if key not in merged_dict:\n",
    "            merged_dict[key] = value\n",
    "        else:\n",
    "            if isinstance(value, list):\n",
    "                merged_dict[key].extend(value)\n",
    "            else:\n",
    "                merged_dict[key] = [merged_dict[key], value]"
   ]
  },
  {
   "cell_type": "code",
   "execution_count": 316,
   "metadata": {},
   "outputs": [],
   "source": [
    "en_cr_math_words = pd.DataFrame(merged_dict)"
   ]
  },
  {
   "cell_type": "code",
   "execution_count": 320,
   "metadata": {},
   "outputs": [],
   "source": [
    "existing_df_en_cr = pd.read_csv(r'C:\\Users\\yush\\OneDrive\\Desktop\\papers\\kreol-benchmark\\data_collection\\data_extracted\\raw\\en_cr_parallel_raw.csv')"
   ]
  },
  {
   "cell_type": "code",
   "execution_count": 322,
   "metadata": {},
   "outputs": [],
   "source": [
    "existing_df_en_cr.drop(columns={'Unnamed: 0'},inplace=True)"
   ]
  },
  {
   "cell_type": "code",
   "execution_count": 324,
   "metadata": {},
   "outputs": [],
   "source": [
    "existing_df_en_cr= pd.concat([existing_df_en_cr,en_cr_math_words])"
   ]
  },
  {
   "cell_type": "code",
   "execution_count": 325,
   "metadata": {},
   "outputs": [
    {
     "data": {
      "text/html": [
       "<div>\n",
       "<style scoped>\n",
       "    .dataframe tbody tr th:only-of-type {\n",
       "        vertical-align: middle;\n",
       "    }\n",
       "\n",
       "    .dataframe tbody tr th {\n",
       "        vertical-align: top;\n",
       "    }\n",
       "\n",
       "    .dataframe thead th {\n",
       "        text-align: right;\n",
       "    }\n",
       "</style>\n",
       "<table border=\"1\" class=\"dataframe\">\n",
       "  <thead>\n",
       "    <tr style=\"text-align: right;\">\n",
       "      <th></th>\n",
       "      <th>en</th>\n",
       "      <th>cr</th>\n",
       "    </tr>\n",
       "  </thead>\n",
       "  <tbody>\n",
       "    <tr>\n",
       "      <th>0</th>\n",
       "      <td>Message from the Minister of Education and Hum...</td>\n",
       "      <td>Mesaz Minis Ledikasion ek Resours Imin Mo bien...</td>\n",
       "    </tr>\n",
       "    <tr>\n",
       "      <th>1</th>\n",
       "      <td>This publication on the grammar of Kreol Moris...</td>\n",
       "      <td>Sa piblikasion lor gramer Kreol Morisien la, ...</td>\n",
       "    </tr>\n",
       "    <tr>\n",
       "      <th>2</th>\n",
       "      <td>We had already gained massive unanimity on the...</td>\n",
       "      <td>Nou finn deza gagn linanimite pou lortograf l...</td>\n",
       "    </tr>\n",
       "    <tr>\n",
       "      <th>3</th>\n",
       "      <td>Many amongst us found how useful using both la...</td>\n",
       "      <td>Bokou parmi nou finn fer lexperyans litilite ...</td>\n",
       "    </tr>\n",
       "    <tr>\n",
       "      <th>4</th>\n",
       "      <td>Giving the language its credentials has not al...</td>\n",
       "      <td>Donn enn lang so bann referans pa finn touzou...</td>\n",
       "    </tr>\n",
       "    <tr>\n",
       "      <th>...</th>\n",
       "      <td>...</td>\n",
       "      <td>...</td>\n",
       "    </tr>\n",
       "    <tr>\n",
       "      <th>119</th>\n",
       "      <td>(scale as magnitude)</td>\n",
       "      <td>Inportans</td>\n",
       "    </tr>\n",
       "    <tr>\n",
       "      <th>120</th>\n",
       "      <td>(fish scale)</td>\n",
       "      <td>Lekay</td>\n",
       "    </tr>\n",
       "    <tr>\n",
       "      <th>121</th>\n",
       "      <td>(scale for measure)</td>\n",
       "      <td>Gradiasion</td>\n",
       "    </tr>\n",
       "    <tr>\n",
       "      <th>122</th>\n",
       "      <td>(scale to measure mass)</td>\n",
       "      <td>Balans</td>\n",
       "    </tr>\n",
       "    <tr>\n",
       "      <th>123</th>\n",
       "      <td>Scale</td>\n",
       "      <td>Lesel</td>\n",
       "    </tr>\n",
       "  </tbody>\n",
       "</table>\n",
       "<p>166 rows × 2 columns</p>\n",
       "</div>"
      ],
      "text/plain": [
       "                                                    en  \\\n",
       "0    Message from the Minister of Education and Hum...   \n",
       "1    This publication on the grammar of Kreol Moris...   \n",
       "2    We had already gained massive unanimity on the...   \n",
       "3    Many amongst us found how useful using both la...   \n",
       "4    Giving the language its credentials has not al...   \n",
       "..                                                 ...   \n",
       "119                               (scale as magnitude)   \n",
       "120                                       (fish scale)   \n",
       "121                                (scale for measure)   \n",
       "122                            (scale to measure mass)   \n",
       "123                                              Scale   \n",
       "\n",
       "                                                    cr  \n",
       "0    Mesaz Minis Ledikasion ek Resours Imin Mo bien...  \n",
       "1     Sa piblikasion lor gramer Kreol Morisien la, ...  \n",
       "2     Nou finn deza gagn linanimite pou lortograf l...  \n",
       "3     Bokou parmi nou finn fer lexperyans litilite ...  \n",
       "4     Donn enn lang so bann referans pa finn touzou...  \n",
       "..                                                 ...  \n",
       "119                                          Inportans  \n",
       "120                                              Lekay  \n",
       "121                                         Gradiasion  \n",
       "122                                             Balans  \n",
       "123                                              Lesel  \n",
       "\n",
       "[166 rows x 2 columns]"
      ]
     },
     "execution_count": 325,
     "metadata": {},
     "output_type": "execute_result"
    }
   ],
   "source": [
    "existing_df_en_cr"
   ]
  },
  {
   "cell_type": "code",
   "execution_count": 326,
   "metadata": {},
   "outputs": [],
   "source": [
    "existing_df_en_cr.to_csv(r'C:\\Users\\yush\\OneDrive\\Desktop\\papers\\kreol-benchmark\\data_collection\\data_extracted\\raw\\en_cr_parallel_raw.csv',index=False)"
   ]
  },
  {
   "cell_type": "markdown",
   "metadata": {},
   "source": [
    "20/02/24 - Parsing books I found online"
   ]
  },
  {
   "cell_type": "code",
   "execution_count": null,
   "metadata": {},
   "outputs": [],
   "source": []
  }
 ],
 "metadata": {
  "kernelspec": {
   "display_name": "Python 3",
   "language": "python",
   "name": "python3"
  },
  "language_info": {
   "codemirror_mode": {
    "name": "ipython",
    "version": 3
   },
   "file_extension": ".py",
   "mimetype": "text/x-python",
   "name": "python",
   "nbconvert_exporter": "python",
   "pygments_lexer": "ipython3",
   "version": "3.7.9"
  }
 },
 "nbformat": 4,
 "nbformat_minor": 2
}
