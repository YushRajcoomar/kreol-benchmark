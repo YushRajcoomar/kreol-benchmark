{
 "cells": [
  {
   "cell_type": "code",
   "execution_count": 3,
   "metadata": {},
   "outputs": [],
   "source": [
    "import pandas as pd"
   ]
  },
  {
   "cell_type": "code",
   "execution_count": 4,
   "metadata": {},
   "outputs": [],
   "source": [
    "df_train = pd.read_json('/mnt/disk/yrajcoomar/kreol-benchmark/data/lang_data/en-cr/en-cr_train.jsonl',lines=True)\n",
    "df_dict = pd.read_json('/mnt/disk/yrajcoomar/kreol-benchmark/data_collection/notebooks/cr_en_dict_sentences.json',lines=True)"
   ]
  },
  {
   "cell_type": "code",
   "execution_count": 5,
   "metadata": {},
   "outputs": [],
   "source": [
    "df = pd.concat([df_train,df_dict])\n",
    "df=df.sample(frac=1)#\n",
    "df.reset_index(inplace=True,drop=True)"
   ]
  },
  {
   "cell_type": "code",
   "execution_count": 6,
   "metadata": {},
   "outputs": [],
   "source": [
    "import json\n",
    "with open('/mnt/disk/yrajcoomar/kreol-benchmark/data/lang_data/en-cr/cr_en_sentences_train.json', 'w') as f:\n",
    "    for idx,item in df.iterrows():\n",
    "        # Write dictionary to file on new line\n",
    "        item_dict = {'input': item.input, 'target': item.target}\n",
    "        f.write(json.dumps(item_dict) + '\\n')"
   ]
  },
  {
   "cell_type": "code",
   "execution_count": 14,
   "metadata": {},
   "outputs": [],
   "source": []
  },
  {
   "cell_type": "code",
   "execution_count": 19,
   "metadata": {},
   "outputs": [],
   "source": []
  },
  {
   "cell_type": "code",
   "execution_count": null,
   "metadata": {},
   "outputs": [],
   "source": []
  }
 ],
 "metadata": {
  "kernelspec": {
   "display_name": "cuda11",
   "language": "python",
   "name": "python3"
  },
  "language_info": {
   "codemirror_mode": {
    "name": "ipython",
    "version": 3
   },
   "file_extension": ".py",
   "mimetype": "text/x-python",
   "name": "python",
   "nbconvert_exporter": "python",
   "pygments_lexer": "ipython3",
   "version": "3.10.13"
  }
 },
 "nbformat": 4,
 "nbformat_minor": 2
}
