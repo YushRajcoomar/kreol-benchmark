{
 "cells": [
  {
   "cell_type": "code",
   "execution_count": 2,
   "metadata": {},
   "outputs": [],
   "source": [
    "import pandas as pd"
   ]
  },
  {
   "cell_type": "code",
   "execution_count": 5,
   "metadata": {},
   "outputs": [],
   "source": [
    "df_800 = pd.read_csv('/home/yush/kreol-benchmark/data_collection/data_extracted/raw/parallel_batches_800.csv')\n",
    "df_500 = df_800[:500]"
   ]
  },
  {
   "cell_type": "code",
   "execution_count": 6,
   "metadata": {},
   "outputs": [],
   "source": [
    "import json\n",
    "with open('/home/yush/kreol-benchmark/data/lang_data/en-cr/cr_en_hq_gptapi_500.json', 'w') as f:\n",
    "    for idx,item in df_500.iterrows():\n",
    "        # Write dictionary to file on new line\n",
    "        item_dict = {'input': item.tgt_lang, 'target': item.src_lang}\n",
    "        f.write(json.dumps(item_dict) + '\\n')"
   ]
  },
  {
   "cell_type": "code",
   "execution_count": 6,
   "metadata": {},
   "outputs": [],
   "source": [
    "df_train = pd.read_json('/home/yush/kreol-benchmark/data/lang_data/en-cr/cr_en_sentences_train.json',lines=True)\n",
    "df_dict = pd.read_json('/home/yush/kreol-benchmark/data/lang_data/en-cr/cr_en_hq_gptapi_520.json',lines=True)"
   ]
  },
  {
   "cell_type": "code",
   "execution_count": 7,
   "metadata": {},
   "outputs": [],
   "source": [
    "df = pd.concat([df_train,df_dict])\n",
    "df=df.sample(frac=1)#\n",
    "df.reset_index(inplace=True,drop=True)"
   ]
  },
  {
   "cell_type": "code",
   "execution_count": 8,
   "metadata": {},
   "outputs": [
    {
     "data": {
      "text/html": [
       "<div>\n",
       "<style scoped>\n",
       "    .dataframe tbody tr th:only-of-type {\n",
       "        vertical-align: middle;\n",
       "    }\n",
       "\n",
       "    .dataframe tbody tr th {\n",
       "        vertical-align: top;\n",
       "    }\n",
       "\n",
       "    .dataframe thead th {\n",
       "        text-align: right;\n",
       "    }\n",
       "</style>\n",
       "<table border=\"1\" class=\"dataframe\">\n",
       "  <thead>\n",
       "    <tr style=\"text-align: right;\">\n",
       "      <th></th>\n",
       "      <th>input</th>\n",
       "      <th>target</th>\n",
       "    </tr>\n",
       "  </thead>\n",
       "  <tbody>\n",
       "    <tr>\n",
       "      <th>0</th>\n",
       "      <td>The men had milked the cows in the early morni...</td>\n",
       "      <td>Bann travayer ti tir dile vas e apre zot ti al...</td>\n",
       "    </tr>\n",
       "    <tr>\n",
       "      <th>1</th>\n",
       "      <td>Appoint.</td>\n",
       "      <td>Poste.</td>\n",
       "    </tr>\n",
       "    <tr>\n",
       "      <th>2</th>\n",
       "      <td>Charcoal stove.</td>\n",
       "      <td>Reso.</td>\n",
       "    </tr>\n",
       "    <tr>\n",
       "      <th>3</th>\n",
       "      <td>bootlicker.</td>\n",
       "      <td>souser.</td>\n",
       "    </tr>\n",
       "    <tr>\n",
       "      <th>4</th>\n",
       "      <td>Certainly. I'll be back in a second... You're ...</td>\n",
       "      <td>Sertennman. Mo pou vini dan enn segonn... Zot ...</td>\n",
       "    </tr>\n",
       "    <tr>\n",
       "      <th>...</th>\n",
       "      <td>...</td>\n",
       "      <td>...</td>\n",
       "    </tr>\n",
       "    <tr>\n",
       "      <th>24708</th>\n",
       "      <td>Did you give me back my change?</td>\n",
       "      <td>Eski ou finn retourn mwa mo larzan?</td>\n",
       "    </tr>\n",
       "    <tr>\n",
       "      <th>24709</th>\n",
       "      <td>Face.</td>\n",
       "      <td>Konfronte.</td>\n",
       "    </tr>\n",
       "    <tr>\n",
       "      <th>24710</th>\n",
       "      <td>Beetroot, beetroot.</td>\n",
       "      <td>Betrav, betrav.</td>\n",
       "    </tr>\n",
       "    <tr>\n",
       "      <th>24711</th>\n",
       "      <td>Bulldozer.</td>\n",
       "      <td>Bouldozer.</td>\n",
       "    </tr>\n",
       "    <tr>\n",
       "      <th>24712</th>\n",
       "      <td>This can lead to a major shift in the allocati...</td>\n",
       "      <td>Sa kapav amenn enn siftaz dan alokasyon mindev...</td>\n",
       "    </tr>\n",
       "  </tbody>\n",
       "</table>\n",
       "<p>24713 rows × 2 columns</p>\n",
       "</div>"
      ],
      "text/plain": [
       "                                                   input  \\\n",
       "0      The men had milked the cows in the early morni...   \n",
       "1                                               Appoint.   \n",
       "2                                        Charcoal stove.   \n",
       "3                                            bootlicker.   \n",
       "4      Certainly. I'll be back in a second... You're ...   \n",
       "...                                                  ...   \n",
       "24708                    Did you give me back my change?   \n",
       "24709                                              Face.   \n",
       "24710                                Beetroot, beetroot.   \n",
       "24711                                         Bulldozer.   \n",
       "24712  This can lead to a major shift in the allocati...   \n",
       "\n",
       "                                                  target  \n",
       "0      Bann travayer ti tir dile vas e apre zot ti al...  \n",
       "1                                                 Poste.  \n",
       "2                                                  Reso.  \n",
       "3                                                souser.  \n",
       "4      Sertennman. Mo pou vini dan enn segonn... Zot ...  \n",
       "...                                                  ...  \n",
       "24708                Eski ou finn retourn mwa mo larzan?  \n",
       "24709                                         Konfronte.  \n",
       "24710                                    Betrav, betrav.  \n",
       "24711                                         Bouldozer.  \n",
       "24712  Sa kapav amenn enn siftaz dan alokasyon mindev...  \n",
       "\n",
       "[24713 rows x 2 columns]"
      ]
     },
     "execution_count": 8,
     "metadata": {},
     "output_type": "execute_result"
    }
   ],
   "source": [
    "df"
   ]
  },
  {
   "cell_type": "code",
   "execution_count": 10,
   "metadata": {},
   "outputs": [],
   "source": [
    "import json\n",
    "with open('/home/yush/kreol-benchmark/data/lang_data/en-cr/cr_en_sentences_hq500_train.json', 'w') as f:\n",
    "    for idx,item in df.iterrows():\n",
    "        # Write dictionary to file on new line\n",
    "        item_dict = {'input': item.input, 'target': item.target}\n",
    "        f.write(json.dumps(item_dict) + '\\n')"
   ]
  },
  {
   "cell_type": "code",
   "execution_count": 14,
   "metadata": {},
   "outputs": [],
   "source": []
  },
  {
   "cell_type": "code",
   "execution_count": 19,
   "metadata": {},
   "outputs": [],
   "source": []
  },
  {
   "cell_type": "code",
   "execution_count": null,
   "metadata": {},
   "outputs": [],
   "source": []
  }
 ],
 "metadata": {
  "kernelspec": {
   "display_name": "cuda11",
   "language": "python",
   "name": "python3"
  },
  "language_info": {
   "codemirror_mode": {
    "name": "ipython",
    "version": 3
   },
   "file_extension": ".py",
   "mimetype": "text/x-python",
   "name": "python",
   "nbconvert_exporter": "python",
   "pygments_lexer": "ipython3",
   "version": "3.10.13"
  }
 },
 "nbformat": 4,
 "nbformat_minor": 2
}
