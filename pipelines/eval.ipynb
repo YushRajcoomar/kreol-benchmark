{
 "cells": [
  {
   "cell_type": "code",
   "execution_count": 1,
   "metadata": {},
   "outputs": [],
   "source": [
    "from transformers import MBartForConditionalGeneration, AutoTokenizer"
   ]
  },
  {
   "cell_type": "code",
   "execution_count": 2,
   "metadata": {},
   "outputs": [],
   "source": [
    "from huggingface_hub import notebook_login\n",
    "from transformers import MBart50Tokenizer\n",
    "import tqdm"
   ]
  },
  {
   "cell_type": "code",
   "execution_count": 3,
   "metadata": {},
   "outputs": [],
   "source": [
    "# checkpoint = \"facebook/mbart-large-50-many-to-many-mmt\"\n",
    "checkpoint = \"/mnt/disk/yrajcoomar/kreol-benchmark/checkpoint/checkpoint-270000\"\n",
    "tokenizer = AutoTokenizer.from_pretrained(checkpoint)"
   ]
  },
  {
   "cell_type": "code",
   "execution_count": 5,
   "metadata": {},
   "outputs": [],
   "source": [
    "import torch"
   ]
  },
  {
   "cell_type": "code",
   "execution_count": 6,
   "metadata": {},
   "outputs": [],
   "source": [
    "device = 'cuda' if torch.cuda.is_available() else 'cpu'\n",
    "device='cpu'"
   ]
  },
  {
   "cell_type": "code",
   "execution_count": 7,
   "metadata": {},
   "outputs": [],
   "source": [
    "# tokenizer = MBart50Tokenizer.from_pretrained(\"/mnt/disk/yrajcoomar/kreol-benchmark/pipelines/tok\",max_len=256)\n",
    "model = MBartForConditionalGeneration.from_pretrained(checkpoint)\n",
    "model = model.to(device)"
   ]
  },
  {
   "cell_type": "code",
   "execution_count": 19,
   "metadata": {},
   "outputs": [
    {
     "data": {
      "text/plain": [
       "(610, 880, 512)"
      ]
     },
     "execution_count": 19,
     "metadata": {},
     "output_type": "execute_result"
    }
   ],
   "source": [
    "610,880,512"
   ]
  },
  {
   "cell_type": "code",
   "execution_count": 23,
   "metadata": {},
   "outputs": [],
   "source": []
  },
  {
   "cell_type": "code",
   "execution_count": 26,
   "metadata": {},
   "outputs": [
    {
     "data": {
      "text/plain": [
       "'en_XX'"
      ]
     },
     "execution_count": 26,
     "metadata": {},
     "output_type": "execute_result"
    }
   ],
   "source": []
  },
  {
   "cell_type": "code",
   "execution_count": 34,
   "metadata": {},
   "outputs": [
    {
     "data": {
      "text/plain": [
       "['Mo pa pou swiv zot kot zot ale, fer enn desizion silvouple.']"
      ]
     },
     "execution_count": 34,
     "metadata": {},
     "output_type": "execute_result"
    }
   ],
   "source": [
    "# example_english_phrase = \"I will not be following you wherever you go, make a decision please.\"\n",
    "example_creole_phrase = 'Mo pa pou swiv zot kot zot ale, fer enn desizion silvouple.'\n",
    "\n",
    "tokenizer.tgt_lang ='en_XX'\n",
    "tokenizer.src_lang= 'cr_CR'\n",
    "\n",
    "inputs = tokenizer(example_english_phrase, return_tensors=\"pt\").to(device)\n",
    "\n",
    "generated_tokens = model.generate(**inputs)\n",
    "\n",
    "tokenizer.batch_decode(generated_tokens, skip_special_tokens=True)\n"
   ]
  },
  {
   "cell_type": "code",
   "execution_count": 35,
   "metadata": {},
   "outputs": [
    {
     "data": {
      "text/plain": [
       "tensor([[     2, 250004,   2501,    249,  20618,     91,   2452,    334,   1602,\n",
       "             18,   1975,   1602,     18,    662,      4,   1592,   8201,      8,\n",
       "           4900,   1830,   5795,  24375,   8705,      5,      2]])"
      ]
     },
     "execution_count": 35,
     "metadata": {},
     "output_type": "execute_result"
    }
   ],
   "source": [
    "generated_tokens"
   ]
  },
  {
   "cell_type": "code",
   "execution_count": 37,
   "metadata": {},
   "outputs": [
    {
     "data": {
      "text/plain": [
       "'Mo pa'"
      ]
     },
     "execution_count": 37,
     "metadata": {},
     "output_type": "execute_result"
    }
   ],
   "source": [
    "tokenizer.decode(generated_tokens[0][2:4])"
   ]
  },
  {
   "cell_type": "code",
   "execution_count": 33,
   "metadata": {},
   "outputs": [
    {
     "data": {
      "text/plain": [
       "tensor([250004,     87,   1221,    959,    186,  25632,    398,   7440,    814,\n",
       "           398,    738,      4,   3249,     10,  51957,  22936,      5,      2])"
      ]
     },
     "execution_count": 33,
     "metadata": {},
     "output_type": "execute_result"
    }
   ],
   "source": [
    "inputs['input_ids'][0]"
   ]
  },
  {
   "cell_type": "code",
   "execution_count": 21,
   "metadata": {},
   "outputs": [
    {
     "data": {
      "text/plain": [
       "tensor([[     2, 250054,   2501,    249,  20618,     91,   2452,    334,  80059,\n",
       "           1975,     47,    662,      4,   1592,   8201,      8,   4900,   1830,\n",
       "           5795,  24375,   8705,      5,      2]])"
      ]
     },
     "execution_count": 21,
     "metadata": {},
     "output_type": "execute_result"
    }
   ],
   "source": [
    "generated_tokens"
   ]
  },
  {
   "cell_type": "code",
   "execution_count": 22,
   "metadata": {},
   "outputs": [
    {
     "data": {
      "text/plain": [
       "[250004, 2501, 108, 26026, 19004, 19, 200, 915, 101638, 25465, 332, 5, 2]"
      ]
     },
     "execution_count": 22,
     "metadata": {},
     "output_type": "execute_result"
    }
   ],
   "source": [
    "tokenizer(\"Mo nepli compran ki p arriver ici man.\")['input_ids']"
   ]
  },
  {
   "cell_type": "code",
   "execution_count": 23,
   "metadata": {},
   "outputs": [
    {
     "data": {
      "text/plain": [
       "'<unk> Mo nepli compran ki p arriver ici man.</s>'"
      ]
     },
     "execution_count": 23,
     "metadata": {},
     "output_type": "execute_result"
    }
   ],
   "source": [
    "tokenizer.decode([3, 2501, 108, 26026, 19004, 19, 200, 915, 101638, 25465, 332, 5, 2])"
   ]
  },
  {
   "cell_type": "code",
   "execution_count": 38,
   "metadata": {},
   "outputs": [],
   "source": [
    "import evaluate\n",
    "\n",
    "bleu = evaluate.load(\"bleu\")\n",
    "chrf = evaluate.load(\"chrf\")"
   ]
  },
  {
   "cell_type": "code",
   "execution_count": 39,
   "metadata": {},
   "outputs": [],
   "source": [
    "import pandas as pd\n",
    "val = pd.read_json('/mnt/disk/yrajcoomar/kreol-benchmark/data/lang_data/en-cr/en-cr_dev.jsonl',lines=True)"
   ]
  },
  {
   "cell_type": "code",
   "execution_count": 40,
   "metadata": {},
   "outputs": [],
   "source": [
    "val_inputs = list(val['input'])\n",
    "val_labels = list(val['target'])"
   ]
  },
  {
   "cell_type": "code",
   "execution_count": 41,
   "metadata": {},
   "outputs": [],
   "source": [
    "input_tokens = tokenizer(val_inputs,max_length=128, truncation=True, padding=\"max_length\",return_tensors='pt').to(device)"
   ]
  },
  {
   "cell_type": "code",
   "execution_count": 42,
   "metadata": {},
   "outputs": [],
   "source": [
    "output_tokens = model.generate(**input_tokens)"
   ]
  },
  {
   "cell_type": "code",
   "execution_count": 43,
   "metadata": {},
   "outputs": [],
   "source": [
    "output = tokenizer.batch_decode(output_tokens, skip_special_tokens=True)"
   ]
  },
  {
   "cell_type": "code",
   "execution_count": 44,
   "metadata": {},
   "outputs": [
    {
     "data": {
      "text/plain": [
       "{'score': 44.51428623272526, 'char_order': 6, 'word_order': 0, 'beta': 2}"
      ]
     },
     "execution_count": 44,
     "metadata": {},
     "output_type": "execute_result"
    }
   ],
   "source": [
    "chrf.compute(predictions=output,references=val_labels) # bidirectional"
   ]
  },
  {
   "cell_type": "code",
   "execution_count": 30,
   "metadata": {},
   "outputs": [
    {
     "data": {
      "text/plain": [
       "{'score': 46.111429700032176, 'char_order': 6, 'word_order': 0, 'beta': 2}"
      ]
     },
     "execution_count": 30,
     "metadata": {},
     "output_type": "execute_result"
    }
   ],
   "source": [
    "chrf.compute(predictions=output,references=val_labels)"
   ]
  },
  {
   "cell_type": "code",
   "execution_count": 32,
   "metadata": {},
   "outputs": [
    {
     "data": {
      "text/plain": [
       "{'score': 44.25118855197231, 'char_order': 6, 'word_order': 0, 'beta': 2}"
      ]
     },
     "execution_count": 32,
     "metadata": {},
     "output_type": "execute_result"
    }
   ],
   "source": [
    "chrf.compute(predictions=output,references=val_labels)"
   ]
  },
  {
   "cell_type": "code",
   "execution_count": 18,
   "metadata": {},
   "outputs": [
    {
     "data": {
      "text/plain": [
       "{'score': 44.88389045784656, 'char_order': 6, 'word_order': 0, 'beta': 2}"
      ]
     },
     "execution_count": 18,
     "metadata": {},
     "output_type": "execute_result"
    }
   ],
   "source": [
    "chrf.compute(predictions=output,references=val_labels)"
   ]
  },
  {
   "cell_type": "code",
   "execution_count": 45,
   "metadata": {},
   "outputs": [
    {
     "data": {
      "text/plain": [
       "{'bleu': 0.22710547384388105,\n",
       " 'precisions': [0.5968992248062015,\n",
       "  0.31207886199151486,\n",
       "  0.18339100346020762,\n",
       "  0.1127583749109052],\n",
       " 'brevity_penalty': 0.911600492464646,\n",
       " 'length_ratio': 0.9152870350462267,\n",
       " 'translation_length': 8514,\n",
       " 'reference_length': 9302}"
      ]
     },
     "execution_count": 45,
     "metadata": {},
     "output_type": "execute_result"
    }
   ],
   "source": [
    "bleu.compute(predictions=output,references=val_labels) #bi"
   ]
  },
  {
   "cell_type": "code",
   "execution_count": 31,
   "metadata": {},
   "outputs": [
    {
     "data": {
      "text/plain": [
       "{'bleu': 0.232351109380634,\n",
       " 'precisions': [0.5994308480364258,\n",
       "  0.3108026554013277,\n",
       "  0.18188824662813102,\n",
       "  0.10883886906395827],\n",
       " 'brevity_penalty': 0.9428478906353579,\n",
       " 'length_ratio': 0.9444205547194152,\n",
       " 'translation_length': 8785,\n",
       " 'reference_length': 9302}"
      ]
     },
     "execution_count": 31,
     "metadata": {},
     "output_type": "execute_result"
    },
    {
     "ename": "",
     "evalue": "",
     "output_type": "error",
     "traceback": [
      "\u001b[1;31mThe Kernel crashed while executing code in the current cell or a previous cell. \n",
      "\u001b[1;31mPlease review the code in the cell(s) to identify a possible cause of the failure. \n",
      "\u001b[1;31mClick <a href='https://aka.ms/vscodeJupyterKernelCrash'>here</a> for more info. \n",
      "\u001b[1;31mView Jupyter <a href='command:jupyter.viewOutput'>log</a> for further details."
     ]
    }
   ],
   "source": [
    "bleu.compute(predictions=output,references=val_labels)"
   ]
  },
  {
   "cell_type": "code",
   "execution_count": 33,
   "metadata": {},
   "outputs": [
    {
     "data": {
      "text/plain": [
       "{'bleu': 0.21677202646600077,\n",
       " 'precisions': [0.5791284403669725,\n",
       "  0.29708029197080293,\n",
       "  0.16904145077720206,\n",
       "  0.0991552416562803],\n",
       " 'brevity_penalty': 0.9354354658248155,\n",
       " 'length_ratio': 0.9374328101483552,\n",
       " 'translation_length': 8720,\n",
       " 'reference_length': 9302}"
      ]
     },
     "execution_count": 33,
     "metadata": {},
     "output_type": "execute_result"
    }
   ],
   "source": [
    "bleu.compute(predictions=output,references=val_labels)"
   ]
  },
  {
   "cell_type": "code",
   "execution_count": 17,
   "metadata": {},
   "outputs": [
    {
     "data": {
      "text/plain": [
       "{'bleu': 0.22213435249592578,\n",
       " 'precisions': [0.5861203059011528,\n",
       "  0.3022636484687084,\n",
       "  0.17265816260791136,\n",
       "  0.1019003029468466],\n",
       " 'brevity_penalty': 0.940117001603055,\n",
       " 'length_ratio': 0.9418404644162546,\n",
       " 'translation_length': 8761,\n",
       " 'reference_length': 9302}"
      ]
     },
     "execution_count": 17,
     "metadata": {},
     "output_type": "execute_result"
    }
   ],
   "source": [
    "bleu.compute(predictions=output,references=val_labels)"
   ]
  },
  {
   "cell_type": "code",
   "execution_count": 14,
   "metadata": {},
   "outputs": [
    {
     "data": {
      "text/plain": [
       "{'bleu': 0.2034403402528741,\n",
       " 'precisions': [0.5751253059797179,\n",
       "  0.28382225522960763,\n",
       "  0.16136693495184062,\n",
       "  0.09110169491525423],\n",
       " 'brevity_penalty': 0.9191779356555749,\n",
       " 'length_ratio': 0.9222747796172867,\n",
       " 'translation_length': 8579,\n",
       " 'reference_length': 9302}"
      ]
     },
     "execution_count": 14,
     "metadata": {},
     "output_type": "execute_result"
    }
   ],
   "source": [
    "bleu.compute(predictions=output,references=val_labels)"
   ]
  },
  {
   "cell_type": "code",
   "execution_count": 20,
   "metadata": {},
   "outputs": [],
   "source": [
    "import numpy as np"
   ]
  },
  {
   "cell_type": "code",
   "execution_count": 21,
   "metadata": {},
   "outputs": [],
   "source": [
    "r = list(np.random.randint(0,500,10))"
   ]
  },
  {
   "cell_type": "code",
   "execution_count": 22,
   "metadata": {},
   "outputs": [
    {
     "name": "stdout",
     "output_type": "stream",
     "text": [
      "Input: The disciples had forgotten to bring any bread when they crossed the lake.\n",
      "Prediction: Bann disip la ti bliye amenn dipin kan zot ti travers lak.\n",
      "Label: Bann disip ti finn bliye amenn dipin avek zot kan zot ariv lot kote lak.\n",
      "------------\n",
      "Input: Some day you will see that horrible hhingh in the holy place, just as the prophet Daniel said.\n",
      "Prediction: Enn zour zot pou trouv sa move nouvel dan sa plas la, parey kouma profet Daniel ti dir.\n",
      "Label: Alor ler zot trouv bann sakrilez abominab parey kouma Profet Daniel ti anonse.\n",
      "------------\n",
      "Input: In a democracy, policy makers and people in positions of responsibility must be constantly accountable to citizens.\n",
      "Prediction: Dan enn demokrasi, bann fer politik, bann dimunn dan pozisyon de responsabilite, bizin constantly kontribye a bann sitwayin.\n",
      "Label: Dan enn demokrasi, bann desider e dimounn dan pozision responsabilite bizin touletan rann kont bann sitwayin.\n",
      "------------\n",
      "Input: John's followers took his body and buried it.\n",
      "Prediction: Bann disip Zan pran so lekor, anter li.\n",
      "Label: Bann disip Zan ti pran so lekor e zot anter li.\n",
      "------------\n",
      "Input: But they did not have children, Elizabeth could not have any, as both were old.\n",
      "Prediction: Zot pa ti ena zanfan, Elizabet pa ti kapav, kouma toulede ti vie.\n",
      "Label: Me zot pa ti ena zanfan parski Elizabet pa ti kapav gagn nanye, e zot toulede ti vie.\n",
      "------------\n",
      "Input: Which is more important, the gift or the altar that makes the gift sacred?\n",
      "Prediction: Ki pli inportan, kado ubyen lotel ki fer kado sakre?\n",
      "Label: Ki pli inportan, Ofrand oubien lotel ki rann ofrand la sakre?\n",
      "------------\n",
      "Input: Zechariah said to the angel, how will I know this is going to happen?\n",
      "Prediction: Zakari dir anz la, kouma mo pou kone sa pou arive?\n",
      "Label: Zakari ti dir anz la, ki manier mo pou kone sa pou arive?\n",
      "------------\n",
      "Input: While the Pharisees were still there, Jesus asked them, wWhat do you think about the Messiah?\n",
      "Prediction: Pandan bann Farizien ti la, Zezi dir zot, ki zot panse lor Lemesi.\n",
      "Label: Ler bann Farizien ti finn rasanble, Zezi dimann zot ki zot panse lor Lemesi?\n",
      "------------\n",
      "Input: They hurried off and found Mary and Joseph, and they saw the baby lying on a bed of hay.\n",
      "Prediction: Zot ti fonse, zot ti trouv Mary ek Joseph, e zot ti trouv ti baba la lor lili lerb.\n",
      "Label: Zot degaze ale, e zot trouv Marie, Zozef, e tibaba la ki ti dan manzwar.\n",
      "------------\n",
      "Input: Jesus had gone into the temple and was teaching when the chief priests and the leaders of the people came up to him.\n",
      "Prediction: Zezi rant dan tanp e pe montre kan bann sef pret ek dirizan vinn kot li.\n",
      "Label: Ler Zezi rant dan tanp, bann sef pret ek bann ansien vinn kot li.\n",
      "------------\n"
     ]
    }
   ],
   "source": [
    "for i in r:\n",
    "    print(f\"Input: {val_inputs[i]}\")\n",
    "    print(f\"Prediction: {output[i]}\")\n",
    "    print(f\"Label: {val_labels[i]}\")\n",
    "    print('------------')"
   ]
  },
  {
   "cell_type": "code",
   "execution_count": 20,
   "metadata": {},
   "outputs": [
    {
     "name": "stdout",
     "output_type": "stream",
     "text": [
      "Input: While the Pharisees were still there, Jesus asked them, wWhat do you think about the Messiah?\n",
      "Prediction: Pandan ki bann Farizien ti ankor laba, Zezi dir zot, ki zot panse lor Lemesi.\n",
      "Label: Ler bann Farizien ti finn rasanble, Zezi dimann zot ki zot panse lor Lemesi?\n",
      "------------\n",
      "Input: When they got there, he told them, sit here while I go over there and pray.\n",
      "Prediction: Ler zot ariv laba, li dir zot, asiz laba e mo fer priye.\n",
      "Label: Kan zot ariv laba, li dir bann-la, res la, mwa mo pe al inpe pli lwin pou priye.\n",
      "------------\n",
      "Input: Mary Magdalene, Mary the mother of James and Joseph, and the mother of James and John were some of these women.\n",
      "Prediction: Marie Magdalenn, Marie, mama Zak ek Josef, mama Zak ek Zan ti parmi sa bann fam la.\n",
      "Label: Parmi zot, ti ena Marie Magdalenn, Marie, mama Zak ek Zozef e mama bann garson Zebede.\n",
      "------------\n",
      "Input: But I tell you that Solomon with all his wealth wasn't as well clothed as the flowers.\n",
      "Prediction: Me mo dir zot, salme Salomon ar so boukou lamone pa ti dormi kouma fler.\n",
      "Label: Me mo dir zot ki mem Salomon dan tou sa laglwar pa finn zame abiye kouma sa bann fler la.\n",
      "------------\n",
      "Input: Besides, these public universities face a lack of resources.\n",
      "Prediction: Anplis, sa bann liniversite piblik la pe bizen resurs.\n",
      "Label: San konte ki bann liniversite piblik fer fas enn mank resours.\n",
      "------------\n",
      "Input: They had been sent by the chief priests and the nation's leaders.\n",
      "Prediction: Zot finn avoy zot par bann sef pret ek dirizan nasion.\n",
      "Label: Bann sef pret ek ansien parmi bann lepep finn avoy zot.\n",
      "------------\n",
      "Input: We sang a funeral song, but you would not mourn.\n",
      "Prediction: Nou ti sant enn sante pou anpese, me zot pa ti pou mor.\n",
      "Label: Nou finn zwe kantik lanterman e zot pa finn plore.\n",
      "------------\n",
      "Input: He then gave it to his disciples and said, take this and drink it.\n",
      "Prediction: Li donn li sa pou so bann disip e li dir zot, pran sa e bwar li.\n",
      "Label: Apre li donn so bann disip, li dir, pran sa e bwar sa.\n",
      "------------\n",
      "Input: When Jesus came to Jerusalem, everyone in the city was excited and asked, who can this be?\n",
      "Prediction: Ler Zezi ti ariv Zerizalem, tou dimoun dan lavil ti exite e ti dimann zot, kisannla kapav sa?\n",
      "Label: Ler li rant dan lavil Zerizalem, tou dimoun ti azite, zot pe dimande, kisannla sa?\n",
      "------------\n",
      "Input: There are people who are in positions of responsibility and who do not see the importance of giving information to the public they are paid to serve.\n",
      "Prediction: Ena dimunn ki dan enn pozisyon de responsabilite, e ki pa truv linportans donn linformasyon dimunn ki zot finn pey pu servi.\n",
      "Label: Ena dimunn ki ena dan pozisyon responsabilite e ki pa truv linportans donn linformasyon pu piblik ki zot pe peye pu servi.\n",
      "------------\n"
     ]
    }
   ],
   "source": [
    "for i in r:\n",
    "    print(f\"Input: {val_inputs[i]}\")\n",
    "    print(f\"Prediction: {output[i]}\")\n",
    "    print(f\"Label: {val_labels[i]}\")\n",
    "    print('------------')"
   ]
  },
  {
   "cell_type": "code",
   "execution_count": 12,
   "metadata": {},
   "outputs": [
    {
     "name": "stdout",
     "output_type": "stream",
     "text": [
      "Input: I did not come to do away with them, but to give them their full meaning.\n",
      "Prediction: Mo pa ti vini avek zot, me zot ti fer zot per zot.\n",
      "Label: Mo pa finn vini pou aboli me pou donn zot zot vre sinifikasion.\n",
      "------------\n",
      "Input: The fact is, at the time, you had to pay the teacher in order to go to school.\n",
      "Prediction: Letan zot al lekol, zot ti fer nwaye dan lekol.\n",
      "Label: Anverite sa lepok la pou al lekol ti ena enn fiz pou pey profeser.\n",
      "------------\n",
      "Input: Angina can be described as a discomfort, heaviness, pressure, aching, burning.\n",
      "Prediction: Antrefwa “mili” enn antropolog, dibwa, par lafors gravite.\n",
      "Label: Nou capav dekrir anzinn couma enn sensasion inkonfortab, lourder, presion.\n",
      "------------\n",
      "Input: The boy said he would, but he didn't go.\n",
      "Prediction: Bann garson la ti pou al plis, me li pa ti ale.\n",
      "Label: Garson-la reponn wi papa, li pou ale me li pa ale.\n",
      "------------\n",
      "Input: Was it God in heaven or merely some human being?\n",
      "Prediction: Eski u ti dan enn lot ka?\n",
      "Label: Eski sa ti sorti depi dan lesiel ouswa dimoun ki finn invant sa?\n",
      "------------\n",
      "Input: After finding a very valuable one, the owner goes and sells everything in order to buy that pearl.\n",
      "Prediction: Apre enn timoman reflexion bann li byen konpran e li dimann li si nou omisyon\n",
      "Label: Ler li trouv enn ki ena enn bel valer, li al vann tou seki li ena pou al aste sa perl la.\n",
      "------------\n",
      "Input: They paid it for a potter's field, as the Lord had commanded me.\n",
      "Prediction: Zot ti dibout li enn povve ar mwa.\n",
      "Label: Zot finn servi sa kas la pou aste later potie kouma Lesegner finn donn lord.\n",
      "------------\n",
      "Input: So when you go to a town or a village, find someone worthy enough to have you as their guest and stay with them until you leave.\n",
      "Prediction: Alor kan u al lapes ubyen enn dimunn e zot bizin kit zot plis e gagn zot\n",
      "Label: Alors ninport ki lavil ou vilaz ki zot rantre, rod kisannla ki pare pou akeyir zot, res kot li ziska zot depar.\n",
      "------------\n",
      "Input: When they got there, he told them, sit here while I go over there and pray.\n",
      "Prediction: Kan zot rant isi, li ariv lakaz.\n",
      "Label: Kan zot ariv laba, li dir bann-la, res la, mwa mo pe al inpe pli lwin pou priye.\n",
      "------------\n",
      "Input: He went to the chief priests and asked, how much will you give me if I help you arrest Jesus?\n",
      "Prediction: Li ti al kot pret, e ler zot ti dimann mwa si mo pou ed zot\n",
      "Label: Li al zwenn bann sef pret e li dir zot, komie zot pou donn mwa si mo livre zot Zezi?\n",
      "------------\n"
     ]
    }
   ],
   "source": [
    "for i in range(10):\n",
    "    print(f\"Input: {val_inputs[i]}\")\n",
    "    print(f\"Prediction: {output[i]}\")\n",
    "    print(f\"Label: {val_labels[i]}\")\n",
    "    print('------------')\n"
   ]
  },
  {
   "cell_type": "code",
   "execution_count": 33,
   "metadata": {},
   "outputs": [
    {
     "data": {
      "text/plain": [
       "'I did not come to do away with them, but to give them their full meaning.'"
      ]
     },
     "execution_count": 33,
     "metadata": {},
     "output_type": "execute_result"
    }
   ],
   "source": [
    "val_inputs[0]"
   ]
  },
  {
   "cell_type": "code",
   "execution_count": 34,
   "metadata": {},
   "outputs": [
    {
     "data": {
      "text/plain": [
       "'Mo pa finn vini pou aboli me pou donn zot zot vre sinifikasion.'"
      ]
     },
     "execution_count": 34,
     "metadata": {},
     "output_type": "execute_result"
    }
   ],
   "source": [
    "val_labels[0]"
   ]
  },
  {
   "cell_type": "code",
   "execution_count": 32,
   "metadata": {},
   "outputs": [
    {
     "data": {
      "text/plain": [
       "['Mo pa vinn zwenn zot, me zot ti pe dimann zot.']"
      ]
     },
     "execution_count": 32,
     "metadata": {},
     "output_type": "execute_result"
    }
   ],
   "source": [
    "tokenizer.batch_decode(output, skip_special_tokens=True)\n"
   ]
  },
  {
   "cell_type": "code",
   "execution_count": 31,
   "metadata": {},
   "outputs": [
    {
     "data": {
      "text/plain": [
       "tensor([[    0, 20004,   890,   101,   230,  1196,    81, 19941,   190,    81,\n",
       "            32,    68,  1104,    81, 19940,     2]])"
      ]
     },
     "execution_count": 31,
     "metadata": {},
     "output_type": "execute_result"
    }
   ],
   "source": [
    "output"
   ]
  },
  {
   "cell_type": "code",
   "execution_count": 5,
   "metadata": {},
   "outputs": [
    {
     "data": {
      "text/html": [
       "<div>\n",
       "<style scoped>\n",
       "    .dataframe tbody tr th:only-of-type {\n",
       "        vertical-align: middle;\n",
       "    }\n",
       "\n",
       "    .dataframe tbody tr th {\n",
       "        vertical-align: top;\n",
       "    }\n",
       "\n",
       "    .dataframe thead th {\n",
       "        text-align: right;\n",
       "    }\n",
       "</style>\n",
       "<table border=\"1\" class=\"dataframe\">\n",
       "  <thead>\n",
       "    <tr style=\"text-align: right;\">\n",
       "      <th></th>\n",
       "      <th>input</th>\n",
       "      <th>target</th>\n",
       "    </tr>\n",
       "  </thead>\n",
       "  <tbody>\n",
       "    <tr>\n",
       "      <th>0</th>\n",
       "      <td>I did not come to do away with them, but to gi...</td>\n",
       "      <td>Mo pa finn vini pou aboli me pou donn zot zot ...</td>\n",
       "    </tr>\n",
       "    <tr>\n",
       "      <th>1</th>\n",
       "      <td>The fact is, at the time, you had to pay the t...</td>\n",
       "      <td>Anverite sa lepok la pou al lekol ti ena enn f...</td>\n",
       "    </tr>\n",
       "    <tr>\n",
       "      <th>2</th>\n",
       "      <td>Angina can be described as a discomfort, heavi...</td>\n",
       "      <td>Nou capav dekrir anzinn couma enn sensasion in...</td>\n",
       "    </tr>\n",
       "    <tr>\n",
       "      <th>3</th>\n",
       "      <td>The boy said he would, but he didn't go.</td>\n",
       "      <td>Garson-la reponn wi papa, li pou ale me li pa ...</td>\n",
       "    </tr>\n",
       "    <tr>\n",
       "      <th>4</th>\n",
       "      <td>Was it God in heaven or merely some human being?</td>\n",
       "      <td>Eski sa ti sorti depi dan lesiel ouswa dimoun ...</td>\n",
       "    </tr>\n",
       "    <tr>\n",
       "      <th>...</th>\n",
       "      <td>...</td>\n",
       "      <td>...</td>\n",
       "    </tr>\n",
       "    <tr>\n",
       "      <th>495</th>\n",
       "      <td>The angel answered, the Holy Spirit will come ...</td>\n",
       "      <td>Anz la reponn, Lespri Sin pou vinn lor twa, e ...</td>\n",
       "    </tr>\n",
       "    <tr>\n",
       "      <th>496</th>\n",
       "      <td>At its end, it had a whole lot of Flame-Trees ...</td>\n",
       "      <td>Dan so finision, de kote sime, ti ena enn ta p...</td>\n",
       "    </tr>\n",
       "    <tr>\n",
       "      <th>497</th>\n",
       "      <td>The king will answer, whenever you did it for ...</td>\n",
       "      <td>Lerla lerwa reponn zot, sak fwa ki zot finn fe...</td>\n",
       "    </tr>\n",
       "    <tr>\n",
       "      <th>498</th>\n",
       "      <td>You Pharisees and teachers of the Law of Moses...</td>\n",
       "      <td>Maler lor zot profeser lalwa Moiz ek Farizien,...</td>\n",
       "    </tr>\n",
       "    <tr>\n",
       "      <th>499</th>\n",
       "      <td>Yet Wisdom is shown to be right by his good ac...</td>\n",
       "      <td>Pourtan li finn demontre lasazes Bondie par so...</td>\n",
       "    </tr>\n",
       "  </tbody>\n",
       "</table>\n",
       "<p>500 rows × 2 columns</p>\n",
       "</div>"
      ],
      "text/plain": [
       "                                                 input  \\\n",
       "0    I did not come to do away with them, but to gi...   \n",
       "1    The fact is, at the time, you had to pay the t...   \n",
       "2    Angina can be described as a discomfort, heavi...   \n",
       "3             The boy said he would, but he didn't go.   \n",
       "4     Was it God in heaven or merely some human being?   \n",
       "..                                                 ...   \n",
       "495  The angel answered, the Holy Spirit will come ...   \n",
       "496  At its end, it had a whole lot of Flame-Trees ...   \n",
       "497  The king will answer, whenever you did it for ...   \n",
       "498  You Pharisees and teachers of the Law of Moses...   \n",
       "499  Yet Wisdom is shown to be right by his good ac...   \n",
       "\n",
       "                                                target  \n",
       "0    Mo pa finn vini pou aboli me pou donn zot zot ...  \n",
       "1    Anverite sa lepok la pou al lekol ti ena enn f...  \n",
       "2    Nou capav dekrir anzinn couma enn sensasion in...  \n",
       "3    Garson-la reponn wi papa, li pou ale me li pa ...  \n",
       "4    Eski sa ti sorti depi dan lesiel ouswa dimoun ...  \n",
       "..                                                 ...  \n",
       "495  Anz la reponn, Lespri Sin pou vinn lor twa, e ...  \n",
       "496  Dan so finision, de kote sime, ti ena enn ta p...  \n",
       "497  Lerla lerwa reponn zot, sak fwa ki zot finn fe...  \n",
       "498  Maler lor zot profeser lalwa Moiz ek Farizien,...  \n",
       "499  Pourtan li finn demontre lasazes Bondie par so...  \n",
       "\n",
       "[500 rows x 2 columns]"
      ]
     },
     "execution_count": 5,
     "metadata": {},
     "output_type": "execute_result"
    }
   ],
   "source": [
    "val"
   ]
  },
  {
   "cell_type": "code",
   "execution_count": null,
   "metadata": {},
   "outputs": [],
   "source": [
    "import numpy as np\n",
    "\n",
    "\n",
    "def compute_metrics(eval_preds):\n",
    "    \n",
    "    preds, labels = eval_preds\n",
    "    # In case the model returns more than the prediction logits\n",
    "    if isinstance(preds, tuple):\n",
    "        preds = preds[0]\n",
    "\n",
    "    decoded_preds = tokenizer.batch_decode(preds, skip_special_tokens=True)\n",
    "\n",
    "    # Replace -100s in the labels as we can't decode them\n",
    "    labels = np.where(labels != -100, labels, tokenizer.pad_token_id)\n",
    "    decoded_labels = tokenizer.batch_decode(labels, skip_special_tokens=True)\n",
    "\n",
    "    # Some simple post-processing\n",
    "    decoded_preds = [pred.strip() for pred in decoded_preds]\n",
    "    decoded_labels = [[label.strip()] for label in decoded_labels]\n",
    "\n",
    "    result = metric.compute(predictions=decoded_preds, references=decoded_labels)\n",
    "    return {\"bleu\": result[\"score\"]}"
   ]
  }
 ],
 "metadata": {
  "kernelspec": {
   "display_name": "cuda11",
   "language": "python",
   "name": "python3"
  },
  "language_info": {
   "codemirror_mode": {
    "name": "ipython",
    "version": 3
   },
   "file_extension": ".py",
   "mimetype": "text/x-python",
   "name": "python",
   "nbconvert_exporter": "python",
   "pygments_lexer": "ipython3",
   "version": "3.10.13"
  }
 },
 "nbformat": 4,
 "nbformat_minor": 2
}
