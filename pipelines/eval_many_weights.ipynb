{
 "cells": [
  {
   "cell_type": "code",
   "execution_count": 1,
   "metadata": {},
   "outputs": [],
   "source": [
    "from transformers import MBartForConditionalGeneration, AutoTokenizer\n",
    "\n",
    "from huggingface_hub import notebook_login\n",
    "from transformers import MBart50Tokenizer\n",
    "import tqdm\n",
    "import torch\n",
    "import evaluate\n",
    "import pandas as pd\n",
    "\n",
    "import os"
   ]
  },
  {
   "cell_type": "code",
   "execution_count": 2,
   "metadata": {},
   "outputs": [],
   "source": [
    "val = pd.read_json('/home/yush/kreol-benchmark/data/lang_data/en-cr/en-cr_dev.jsonl',lines=True)\n",
    "val_inputs = list(val['input'])\n",
    "val_labels = list(val['target'])"
   ]
  },
  {
   "cell_type": "code",
   "execution_count": 3,
   "metadata": {},
   "outputs": [],
   "source": [
    "bleu = evaluate.load(\"bleu\")\n",
    "chrf = evaluate.load(\"chrf\")"
   ]
  },
  {
   "cell_type": "code",
   "execution_count": 4,
   "metadata": {},
   "outputs": [],
   "source": [
    "device = 'cuda:7' if torch.cuda.is_available() else 'cpu'\n",
    "# device='cpu'"
   ]
  },
  {
   "cell_type": "code",
   "execution_count": 5,
   "metadata": {},
   "outputs": [],
   "source": [
    "weights = os.listdir('/home/yush/kreol-benchmark/checkpoint/MBart50/bidirectional')\n",
    "weights = sorted([x for x in weights if 'checkpoint' in x],key=lambda x: int(x.split('-')[1]))"
   ]
  },
  {
   "cell_type": "code",
   "execution_count": 6,
   "metadata": {},
   "outputs": [],
   "source": [
    "def index_slice_dict(dicti,slice_begin,slice_end=None):\n",
    "    sliced_dict = {}\n",
    "    for k,v in dicti.items():\n",
    "        if slice_end:\n",
    "            sliced_dict[k] = v[slice_begin:slice_end]\n",
    "        else:\n",
    "            sliced_dict[k] = v[slice_begin:]\n",
    "    return sliced_dict\n",
    "\n",
    "def eval_batches_on_gpu(model,tokenizer,input_tokens,val,batch_num):\n",
    "    batch_size = len(val) // batch_num\n",
    "    output = []\n",
    "    for i in range(0,len(val),batch_size):\n",
    "        input_dict = index_slice_dict(input_tokens,i,i+batch_size)\n",
    "        output_tokens_bn = model.generate(**input_dict)\n",
    "        output_batch = tokenizer.batch_decode(output_tokens_bn, skip_special_tokens=True)\n",
    "        output.extend(output_batch)\n",
    "        torch.cuda.empty_cache()\n",
    "    return output"
   ]
  },
  {
   "cell_type": "code",
   "execution_count": 7,
   "metadata": {},
   "outputs": [],
   "source": [
    "torch.cuda.empty_cache()"
   ]
  },
  {
   "cell_type": "code",
   "execution_count": 8,
   "metadata": {},
   "outputs": [],
   "source": [
    "src_lang = 'en_XX'\n",
    "tgt_lang = 'cr_CR'\n",
    "\n",
    "bidirectional = False"
   ]
  },
  {
   "cell_type": "code",
   "execution_count": 15,
   "metadata": {},
   "outputs": [],
   "source": [
    "weights_dir = '/home/yush/kreol-benchmark/checkpoint/MBart50/finetune/flores_do_not_deploy/finetuned_ckpt_hq500'\n",
    "weights_hq = [x for x in os.listdir(weights_dir) if 'checkpoint' in x]\n",
    "weights_hq = sorted(weights_hq, key=lambda x: int(x.split('-')[-1]))"
   ]
  },
  {
   "cell_type": "code",
   "execution_count": 16,
   "metadata": {},
   "outputs": [
    {
     "data": {
      "text/plain": [
       "['checkpoint-8', 'checkpoint-16', 'checkpoint-24']"
      ]
     },
     "execution_count": 16,
     "metadata": {},
     "output_type": "execute_result"
    }
   ],
   "source": [
    "weights_hq"
   ]
  },
  {
   "cell_type": "code",
   "execution_count": 17,
   "metadata": {},
   "outputs": [
    {
     "data": {
      "text/plain": [
       "'/home/yush/kreol-benchmark/checkpoint/MBart50/finetune/flores_do_not_deploy/finetuned_ckpt_hq500'"
      ]
     },
     "execution_count": 17,
     "metadata": {},
     "output_type": "execute_result"
    }
   ],
   "source": [
    "weights_dir"
   ]
  },
  {
   "cell_type": "code",
   "execution_count": 18,
   "metadata": {},
   "outputs": [
    {
     "name": "stdout",
     "output_type": "stream",
     "text": [
      "Evaluation Metrics for en_XX -> cr_CR at /home/yush/kreol-benchmark/checkpoint/MBart50/finetune/flores_do_not_deploy/finetuned_ckpt_hq500/checkpoint-8\n",
      "{'score': 47.97969336110869, 'char_order': 6, 'word_order': 0, 'beta': 2}\n",
      "{'bleu': 0.24870721035309695, 'precisions': [0.5926087430502562, 0.3170759829355471, 0.18891471919735714, 0.11402137086265311], 'brevity_penalty': 0.9860354112176263, 'length_ratio': 0.9861320146205117, 'translation_length': 9173, 'reference_length': 9302}\n",
      "----------------\n",
      "Evaluation Metrics for en_XX -> cr_CR at /home/yush/kreol-benchmark/checkpoint/MBart50/finetune/flores_do_not_deploy/finetuned_ckpt_hq500/checkpoint-16\n",
      "{'score': 48.1023777591591, 'char_order': 6, 'word_order': 0, 'beta': 2}\n",
      "{'bleu': 0.2490181327408409, 'precisions': [0.5988613969783227, 0.31723419041000694, 0.1903122694861077, 0.11447282252783235], 'brevity_penalty': 0.9817752975509271, 'length_ratio': 0.9819393678778757, 'translation_length': 9134, 'reference_length': 9302}\n",
      "----------------\n",
      "Evaluation Metrics for en_XX -> cr_CR at /home/yush/kreol-benchmark/checkpoint/MBart50/finetune/flores_do_not_deploy/finetuned_ckpt_hq500/checkpoint-24\n",
      "{'score': 47.970802366231034, 'char_order': 6, 'word_order': 0, 'beta': 2}\n",
      "{'bleu': 0.24653458953410068, 'precisions': [0.6001757469244289, 0.3160158066015807, 0.1885488647581441, 0.11268902038132807], 'brevity_penalty': 0.9784861154261182, 'length_ratio': 0.978714254998925, 'translation_length': 9104, 'reference_length': 9302}\n",
      "----------------\n"
     ]
    }
   ],
   "source": [
    "batch_num=5\n",
    "for weight_ckpt in weights_hq:\n",
    "    ckpt_dir = os.path.join(weights_dir,weight_ckpt)\n",
    "    # weights = os.listdir(ckpt_dir)\n",
    "    # for ckpt in weights:\n",
    "    # checkpoint = os.path.join(ckpt_dir,ckpt)\n",
    "    tokenizer = AutoTokenizer.from_pretrained(ckpt_dir)\n",
    "    tokenizer.src_lang = src_lang\n",
    "    tokenizer.tgt_lang = tgt_lang\n",
    "    model = MBartForConditionalGeneration.from_pretrained(ckpt_dir)\n",
    "    model = model.to(device)\n",
    "    input_tokens = tokenizer(val_inputs,max_length=128, truncation=True, padding=\"max_length\",return_tensors='pt').to(device)\n",
    "    output = eval_batches_on_gpu(model,tokenizer,input_tokens,val,batch_num)\n",
    "    print(f'Evaluation Metrics for {src_lang} -> {tgt_lang} at {ckpt_dir}')\n",
    "    print(chrf.compute(predictions=output,references=val_labels))\n",
    "    print(bleu.compute(predictions=output,references=val_labels))\n",
    "    print('----------------')\n",
    "    if bidirectional:\n",
    "        val_inputs_bi, val_labels_bi = val_labels,val_inputs\n",
    "        tokenizer.src_lang,tokenizer.tgt_lang = tokenizer.tgt_lang,tokenizer.src_lang\n",
    "        input_tokens = tokenizer(val_inputs_bi,max_length=128, truncation=True, padding=\"max_length\",return_tensors='pt').to(device)\n",
    "        output = eval_batches_on_gpu(model,tokenizer,input_tokens,val,batch_num)\n",
    "        print(f'Evaluation Metrics for {tgt_lang} -> {src_lang} at {ckpt_dir}')\n",
    "        print(chrf.compute(predictions=output,references=val_labels_bi))\n",
    "        print(bleu.compute(predictions=output,references=val_labels_bi))\n",
    "        print('----------------')"
   ]
  },
  {
   "cell_type": "code",
   "execution_count": 11,
   "metadata": {},
   "outputs": [
    {
     "data": {
      "text/plain": [
       "[]"
      ]
     },
     "execution_count": 11,
     "metadata": {},
     "output_type": "execute_result"
    }
   ],
   "source": [
    "weights_hq"
   ]
  },
  {
   "cell_type": "code",
   "execution_count": null,
   "metadata": {},
   "outputs": [],
   "source": []
  }
 ],
 "metadata": {
  "kernelspec": {
   "display_name": "base",
   "language": "python",
   "name": "python3"
  },
  "language_info": {
   "codemirror_mode": {
    "name": "ipython",
    "version": 3
   },
   "file_extension": ".py",
   "mimetype": "text/x-python",
   "name": "python",
   "nbconvert_exporter": "python",
   "pygments_lexer": "ipython3",
   "version": "3.10.13"
  }
 },
 "nbformat": 4,
 "nbformat_minor": 2
}
